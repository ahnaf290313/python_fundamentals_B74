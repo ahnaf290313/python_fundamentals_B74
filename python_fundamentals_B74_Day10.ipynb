{
 "cells": [
  {
   "cell_type": "code",
   "execution_count": null,
   "id": "420db1af",
   "metadata": {},
   "outputs": [],
   "source": [
    "continuation with conditional statements: "
   ]
  },
  {
   "cell_type": "code",
   "execution_count": null,
   "id": "284311b4",
   "metadata": {},
   "outputs": [],
   "source": [
    "if else condition."
   ]
  },
  {
   "cell_type": "code",
   "execution_count": null,
   "id": "1b104366",
   "metadata": {},
   "outputs": [],
   "source": []
  },
  {
   "cell_type": "code",
   "execution_count": null,
   "id": "aae07d3c",
   "metadata": {},
   "outputs": [],
   "source": [
    "# req : to build a voting application"
   ]
  },
  {
   "cell_type": "code",
   "execution_count": null,
   "id": "ed8b8e68",
   "metadata": {},
   "outputs": [],
   "source": [
    "18 or >= 18 years of the age "
   ]
  },
  {
   "cell_type": "code",
   "execution_count": null,
   "id": "db729f1c",
   "metadata": {},
   "outputs": [],
   "source": []
  },
  {
   "cell_type": "code",
   "execution_count": 1,
   "id": "15ba469d",
   "metadata": {},
   "outputs": [
    {
     "name": "stdout",
     "output_type": "stream",
     "text": [
      "enter your age25\n",
      "25\n"
     ]
    }
   ],
   "source": [
    "age = input(\"enter your age\")\n",
    "\n",
    "print(age)"
   ]
  },
  {
   "cell_type": "code",
   "execution_count": 2,
   "id": "b72a591a",
   "metadata": {},
   "outputs": [
    {
     "data": {
      "text/plain": [
       "str"
      ]
     },
     "execution_count": 2,
     "metadata": {},
     "output_type": "execute_result"
    }
   ],
   "source": [
    "type(age)"
   ]
  },
  {
   "cell_type": "code",
   "execution_count": null,
   "id": "c791cb32",
   "metadata": {},
   "outputs": [],
   "source": [
    "# note : by default input method will be taking the input as in the string format."
   ]
  },
  {
   "cell_type": "code",
   "execution_count": 3,
   "id": "4f438d22",
   "metadata": {},
   "outputs": [
    {
     "name": "stdout",
     "output_type": "stream",
     "text": [
      "enter your age26\n",
      "26\n"
     ]
    }
   ],
   "source": [
    "age = input(\"enter your age\")\n",
    "age = int(age)  # type casting of the datatype....\n",
    "\n",
    "print(age)"
   ]
  },
  {
   "cell_type": "code",
   "execution_count": 4,
   "id": "052bb375",
   "metadata": {},
   "outputs": [
    {
     "data": {
      "text/plain": [
       "int"
      ]
     },
     "execution_count": 4,
     "metadata": {},
     "output_type": "execute_result"
    }
   ],
   "source": [
    "type(age)"
   ]
  },
  {
   "cell_type": "code",
   "execution_count": 5,
   "id": "420b2dcf",
   "metadata": {},
   "outputs": [
    {
     "name": "stdout",
     "output_type": "stream",
     "text": [
      "you are eligible to vote\n"
     ]
    }
   ],
   "source": [
    "if age >= 18:\n",
    "    print(\"you are eligible to vote\")\n",
    "else:\n",
    "    print(\"try next year\")"
   ]
  },
  {
   "cell_type": "code",
   "execution_count": 6,
   "id": "a21ce910",
   "metadata": {},
   "outputs": [
    {
     "name": "stdout",
     "output_type": "stream",
     "text": [
      "enter your age22\n",
      "you are eligible to vote\n"
     ]
    }
   ],
   "source": [
    "age = input(\"enter your age\")\n",
    "age = int(age)\n",
    "\n",
    "if age >= 18:\n",
    "    print(\"you are eligible to vote\")\n",
    "else:\n",
    "    print(\"try next year\")"
   ]
  },
  {
   "cell_type": "code",
   "execution_count": null,
   "id": "8ec172c5",
   "metadata": {},
   "outputs": [],
   "source": []
  },
  {
   "cell_type": "code",
   "execution_count": null,
   "id": "917ead7c",
   "metadata": {},
   "outputs": [],
   "source": [
    "introduction to python function : "
   ]
  },
  {
   "cell_type": "code",
   "execution_count": 7,
   "id": "7a2a6b8a",
   "metadata": {},
   "outputs": [],
   "source": [
    "# defining / declaring the function\n",
    "\n",
    "def greet():\n",
    "    print(\"hello\")"
   ]
  },
  {
   "cell_type": "code",
   "execution_count": 8,
   "id": "afe7a4ac",
   "metadata": {},
   "outputs": [
    {
     "name": "stdout",
     "output_type": "stream",
     "text": [
      "hello\n"
     ]
    }
   ],
   "source": [
    "greet()"
   ]
  },
  {
   "cell_type": "code",
   "execution_count": 9,
   "id": "fd783b9f",
   "metadata": {},
   "outputs": [
    {
     "name": "stdout",
     "output_type": "stream",
     "text": [
      "hello\n"
     ]
    }
   ],
   "source": [
    "greet()"
   ]
  },
  {
   "cell_type": "code",
   "execution_count": null,
   "id": "ba1ac900",
   "metadata": {},
   "outputs": [],
   "source": [
    "understanding the concept of parameters and arguments : "
   ]
  },
  {
   "cell_type": "code",
   "execution_count": null,
   "id": "1397fd63",
   "metadata": {},
   "outputs": [],
   "source": []
  },
  {
   "cell_type": "code",
   "execution_count": null,
   "id": "5ac7fe9b",
   "metadata": {},
   "outputs": [],
   "source": [
    "# req : create a function called pet_details\n",
    "\n",
    "# define the parameters as pet_name and animal_type"
   ]
  },
  {
   "cell_type": "code",
   "execution_count": null,
   "id": "d1e2daab",
   "metadata": {},
   "outputs": [],
   "source": []
  },
  {
   "cell_type": "code",
   "execution_count": 10,
   "id": "9c3f01a2",
   "metadata": {},
   "outputs": [],
   "source": [
    "def pet_details(pet_name, animal_type):\n",
    "    print(f\"my animal name is {pet_name}\")\n",
    "    print(f\"my pet is a {animal_type}\")"
   ]
  },
  {
   "cell_type": "code",
   "execution_count": 11,
   "id": "944e5b78",
   "metadata": {},
   "outputs": [
    {
     "name": "stdout",
     "output_type": "stream",
     "text": [
      "my animal name is rosy\n",
      "my pet is a dog\n"
     ]
    }
   ],
   "source": [
    "pet_details('rosy', 'dog')"
   ]
  },
  {
   "cell_type": "code",
   "execution_count": 12,
   "id": "b5cff7a4",
   "metadata": {},
   "outputs": [
    {
     "name": "stdout",
     "output_type": "stream",
     "text": [
      "my animal name is jerry\n",
      "my pet is a cat\n"
     ]
    }
   ],
   "source": [
    "pet_details('jerry', 'cat')"
   ]
  },
  {
   "cell_type": "code",
   "execution_count": 13,
   "id": "d7c945e5",
   "metadata": {},
   "outputs": [
    {
     "ename": "TypeError",
     "evalue": "pet_details() missing 1 required positional argument: 'animal_type'",
     "output_type": "error",
     "traceback": [
      "\u001b[0;31m---------------------------------------------------------------------------\u001b[0m",
      "\u001b[0;31mTypeError\u001b[0m                                 Traceback (most recent call last)",
      "\u001b[0;32m/var/folders/9x/yqdq3pnj47qgz4g5pr7cv3wr0000gn/T/ipykernel_19491/1949672081.py\u001b[0m in \u001b[0;36m<module>\u001b[0;34m\u001b[0m\n\u001b[0;32m----> 1\u001b[0;31m \u001b[0mpet_details\u001b[0m\u001b[0;34m(\u001b[0m\u001b[0;34m'deo'\u001b[0m\u001b[0;34m)\u001b[0m\u001b[0;34m\u001b[0m\u001b[0;34m\u001b[0m\u001b[0m\n\u001b[0m",
      "\u001b[0;31mTypeError\u001b[0m: pet_details() missing 1 required positional argument: 'animal_type'"
     ]
    }
   ],
   "source": [
    "pet_details('deo')"
   ]
  },
  {
   "cell_type": "code",
   "execution_count": null,
   "id": "53ad9553",
   "metadata": {},
   "outputs": [],
   "source": [
    "type of arguments: \n",
    "    \n",
    "    1. positional arguments\n",
    "    \n",
    "    2. keyword arguments\n",
    "    \n",
    "    3. default arguments \n",
    "    "
   ]
  },
  {
   "cell_type": "code",
   "execution_count": 14,
   "id": "24888f11",
   "metadata": {},
   "outputs": [
    {
     "name": "stdout",
     "output_type": "stream",
     "text": [
      "my animal name is rabbit\n",
      "my pet is a ruby\n"
     ]
    }
   ],
   "source": [
    "pet_details('rabbit', 'ruby')"
   ]
  },
  {
   "cell_type": "code",
   "execution_count": 15,
   "id": "362fb951",
   "metadata": {},
   "outputs": [
    {
     "name": "stdout",
     "output_type": "stream",
     "text": [
      "my animal name is ruby\n",
      "my pet is a rabbit\n"
     ]
    }
   ],
   "source": [
    "pet_details('ruby', 'rabbit')"
   ]
  },
  {
   "cell_type": "code",
   "execution_count": 16,
   "id": "c4ca6d52",
   "metadata": {},
   "outputs": [
    {
     "name": "stdout",
     "output_type": "stream",
     "text": [
      "my animal name is ruby\n",
      "my pet is a rabbit\n"
     ]
    }
   ],
   "source": [
    "pet_details(animal_type='rabbit', pet_name='ruby')"
   ]
  },
  {
   "cell_type": "code",
   "execution_count": null,
   "id": "25abb47a",
   "metadata": {},
   "outputs": [],
   "source": []
  },
  {
   "cell_type": "code",
   "execution_count": null,
   "id": "3857bbb7",
   "metadata": {},
   "outputs": [],
   "source": []
  }
 ],
 "metadata": {
  "kernelspec": {
   "display_name": "Python 3 (ipykernel)",
   "language": "python",
   "name": "python3"
  },
  "language_info": {
   "codemirror_mode": {
    "name": "ipython",
    "version": 3
   },
   "file_extension": ".py",
   "mimetype": "text/x-python",
   "name": "python",
   "nbconvert_exporter": "python",
   "pygments_lexer": "ipython3",
   "version": "3.9.13"
  }
 },
 "nbformat": 4,
 "nbformat_minor": 5
}
