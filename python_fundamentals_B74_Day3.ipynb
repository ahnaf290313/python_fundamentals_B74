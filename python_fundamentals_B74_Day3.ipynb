{
 "cells": [
  {
   "cell_type": "code",
   "execution_count": null,
   "id": "c5886f44",
   "metadata": {},
   "outputs": [],
   "source": [
    "continuation with string data type : "
   ]
  },
  {
   "cell_type": "code",
   "execution_count": null,
   "id": "a9f8865a",
   "metadata": {},
   "outputs": [],
   "source": []
  },
  {
   "cell_type": "code",
   "execution_count": 1,
   "id": "05978b83",
   "metadata": {},
   "outputs": [],
   "source": [
    "first_name = 'bharat'\n",
    "last_name = 'reddy'"
   ]
  },
  {
   "cell_type": "code",
   "execution_count": null,
   "id": "f678a26c",
   "metadata": {},
   "outputs": [],
   "source": [
    "# req : i want to get the full name ? "
   ]
  },
  {
   "cell_type": "code",
   "execution_count": null,
   "id": "447cfc33",
   "metadata": {},
   "outputs": [],
   "source": []
  },
  {
   "cell_type": "code",
   "execution_count": null,
   "id": "7fd3d991",
   "metadata": {},
   "outputs": [],
   "source": [
    "understanding the concept of f string **"
   ]
  },
  {
   "cell_type": "code",
   "execution_count": null,
   "id": "f5798470",
   "metadata": {},
   "outputs": [],
   "source": [
    "# general syntax of f strings"
   ]
  },
  {
   "cell_type": "code",
   "execution_count": null,
   "id": "38de2303",
   "metadata": {},
   "outputs": [],
   "source": [
    "f\" custom words {place_holder - 1} {placeholder-2 } .....{place_holder....n }\" "
   ]
  },
  {
   "cell_type": "code",
   "execution_count": null,
   "id": "5742e69a",
   "metadata": {},
   "outputs": [],
   "source": []
  },
  {
   "cell_type": "code",
   "execution_count": 2,
   "id": "17db42e2",
   "metadata": {},
   "outputs": [
    {
     "name": "stdout",
     "output_type": "stream",
     "text": [
      "bharat reddy\n"
     ]
    }
   ],
   "source": [
    "full_name = f\"{first_name} {last_name}\"\n",
    "\n",
    "print(full_name)"
   ]
  },
  {
   "cell_type": "code",
   "execution_count": 3,
   "id": "6c06419d",
   "metadata": {},
   "outputs": [
    {
     "name": "stdout",
     "output_type": "stream",
     "text": [
      "keep up the good work, Bharat Reddy\n"
     ]
    }
   ],
   "source": [
    "message = f\"keep up the good work, {full_name.title()}\"\n",
    "\n",
    "print(message)"
   ]
  },
  {
   "cell_type": "code",
   "execution_count": null,
   "id": "95558af2",
   "metadata": {},
   "outputs": [],
   "source": []
  },
  {
   "cell_type": "code",
   "execution_count": null,
   "id": "b7a6f026",
   "metadata": {},
   "outputs": [],
   "source": [
    "adding the whitespaces : "
   ]
  },
  {
   "cell_type": "code",
   "execution_count": 4,
   "id": "25211986",
   "metadata": {},
   "outputs": [
    {
     "name": "stdout",
     "output_type": "stream",
     "text": [
      "favourite_programming_language:pythonjavac++swiftpascalcobal\n"
     ]
    }
   ],
   "source": [
    "print(\"favourite_programming_language:pythonjavac++swiftpascalcobal\")"
   ]
  },
  {
   "cell_type": "code",
   "execution_count": null,
   "id": "9473f5c7",
   "metadata": {},
   "outputs": [],
   "source": [
    "\\n ------> it is called as new line delimiter"
   ]
  },
  {
   "cell_type": "code",
   "execution_count": 6,
   "id": "aa64f08d",
   "metadata": {},
   "outputs": [
    {
     "name": "stdout",
     "output_type": "stream",
     "text": [
      "favourite_programming_language:\n",
      "python\n",
      "java\n",
      "c++\n",
      "swift\n",
      "pascal\n",
      "cobal\n"
     ]
    }
   ],
   "source": [
    "print(\"favourite_programming_language:\\npython\\njava\\nc++\\nswift\\npascal\\ncobal\")"
   ]
  },
  {
   "cell_type": "code",
   "execution_count": null,
   "id": "28fabae9",
   "metadata": {},
   "outputs": [],
   "source": [
    "\\t -----> it is called as new tab delimiter"
   ]
  },
  {
   "cell_type": "code",
   "execution_count": 7,
   "id": "4e9d8a08",
   "metadata": {},
   "outputs": [
    {
     "name": "stdout",
     "output_type": "stream",
     "text": [
      "favourite_programming_language:\n",
      "\tpython\n",
      "\tjava\n",
      "\tc++\n",
      "\tswift\n",
      "\tpascal\n",
      "\tcobal\n"
     ]
    }
   ],
   "source": [
    "print(\"favourite_programming_language:\\n\\tpython\\n\\tjava\\n\\tc++\\n\\tswift\\n\\tpascal\\n\\tcobal\")"
   ]
  },
  {
   "cell_type": "code",
   "execution_count": null,
   "id": "5031eb6d",
   "metadata": {},
   "outputs": [],
   "source": [
    "Removing whitespaces from strings : "
   ]
  },
  {
   "cell_type": "code",
   "execution_count": 8,
   "id": "6560d364",
   "metadata": {},
   "outputs": [
    {
     "name": "stdout",
     "output_type": "stream",
     "text": [
      "python\n"
     ]
    }
   ],
   "source": [
    "name = 'python'\n",
    "\n",
    "print(name)"
   ]
  },
  {
   "cell_type": "code",
   "execution_count": 9,
   "id": "1ffaac57",
   "metadata": {},
   "outputs": [
    {
     "name": "stdout",
     "output_type": "stream",
     "text": [
      "      python\n"
     ]
    }
   ],
   "source": [
    "name2 = '      python'\n",
    "\n",
    "print(name2)"
   ]
  },
  {
   "cell_type": "code",
   "execution_count": 10,
   "id": "13f687d6",
   "metadata": {},
   "outputs": [
    {
     "name": "stdout",
     "output_type": "stream",
     "text": [
      "python   \n"
     ]
    }
   ],
   "source": [
    "name3 = 'python   '\n",
    "\n",
    "print(name3)"
   ]
  },
  {
   "cell_type": "code",
   "execution_count": 11,
   "id": "96d2dcbb",
   "metadata": {},
   "outputs": [
    {
     "data": {
      "text/plain": [
       "'python'"
      ]
     },
     "execution_count": 11,
     "metadata": {},
     "output_type": "execute_result"
    }
   ],
   "source": [
    "name2.lstrip()"
   ]
  },
  {
   "cell_type": "code",
   "execution_count": 12,
   "id": "f74b7323",
   "metadata": {},
   "outputs": [
    {
     "data": {
      "text/plain": [
       "'python'"
      ]
     },
     "execution_count": 12,
     "metadata": {},
     "output_type": "execute_result"
    }
   ],
   "source": [
    "name3.rstrip()"
   ]
  },
  {
   "cell_type": "code",
   "execution_count": 13,
   "id": "a44e2ba8",
   "metadata": {},
   "outputs": [
    {
     "name": "stdout",
     "output_type": "stream",
     "text": [
      "   python   \n"
     ]
    }
   ],
   "source": [
    "name4 = '   python   '\n",
    "\n",
    "print(name4)"
   ]
  },
  {
   "cell_type": "code",
   "execution_count": 14,
   "id": "1113b01b",
   "metadata": {},
   "outputs": [
    {
     "data": {
      "text/plain": [
       "'python'"
      ]
     },
     "execution_count": 14,
     "metadata": {},
     "output_type": "execute_result"
    }
   ],
   "source": [
    "name4.strip() # search + execute..."
   ]
  },
  {
   "cell_type": "code",
   "execution_count": null,
   "id": "14a5a67c",
   "metadata": {},
   "outputs": [],
   "source": []
  }
 ],
 "metadata": {
  "kernelspec": {
   "display_name": "Python 3 (ipykernel)",
   "language": "python",
   "name": "python3"
  },
  "language_info": {
   "codemirror_mode": {
    "name": "ipython",
    "version": 3
   },
   "file_extension": ".py",
   "mimetype": "text/x-python",
   "name": "python",
   "nbconvert_exporter": "python",
   "pygments_lexer": "ipython3",
   "version": "3.9.13"
  }
 },
 "nbformat": 4,
 "nbformat_minor": 5
}
