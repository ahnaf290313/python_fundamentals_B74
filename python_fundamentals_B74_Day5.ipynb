{
 "cells": [
  {
   "cell_type": "code",
   "execution_count": null,
   "id": "9afba4df",
   "metadata": {},
   "outputs": [],
   "source": [
    "working with the list datatype :"
   ]
  },
  {
   "cell_type": "code",
   "execution_count": null,
   "id": "3b18c9d9",
   "metadata": {},
   "outputs": [],
   "source": [
    "organizing the list datatype : "
   ]
  },
  {
   "cell_type": "code",
   "execution_count": null,
   "id": "2f033ead",
   "metadata": {},
   "outputs": [],
   "source": []
  },
  {
   "cell_type": "code",
   "execution_count": 1,
   "id": "b2a106c8",
   "metadata": {},
   "outputs": [],
   "source": [
    "cars = ['kia', 'benz', 'maruti', 'honda', 'bmw', 'audi']"
   ]
  },
  {
   "cell_type": "code",
   "execution_count": null,
   "id": "3781beb5",
   "metadata": {},
   "outputs": [],
   "source": []
  },
  {
   "cell_type": "code",
   "execution_count": null,
   "id": "e226cd24",
   "metadata": {},
   "outputs": [],
   "source": [
    "# req : i want to print the list in the alphabetical order ------> A - Z"
   ]
  },
  {
   "cell_type": "code",
   "execution_count": null,
   "id": "7a0860b8",
   "metadata": {},
   "outputs": [],
   "source": [
    "two approach :\n",
    "    \n",
    "    1. temperory approach =======> sorted ====> we can maintain the original order of the list\n",
    "    \n",
    "    2. permanent approach ========> sort =====> changes are applied permanently"
   ]
  },
  {
   "cell_type": "code",
   "execution_count": null,
   "id": "101b9913",
   "metadata": {},
   "outputs": [],
   "source": []
  },
  {
   "cell_type": "code",
   "execution_count": 2,
   "id": "cfc0b3f3",
   "metadata": {},
   "outputs": [
    {
     "name": "stdout",
     "output_type": "stream",
     "text": [
      "['audi', 'benz', 'bmw', 'honda', 'kia', 'maruti']\n"
     ]
    }
   ],
   "source": [
    "print(sorted(cars)) # A, B, B, H, K, M ======> A - Z"
   ]
  },
  {
   "cell_type": "code",
   "execution_count": null,
   "id": "a8c3b8a8",
   "metadata": {},
   "outputs": [],
   "source": [
    "benz , bmw --------------> B, B =====> e, m"
   ]
  },
  {
   "cell_type": "code",
   "execution_count": null,
   "id": "76079551",
   "metadata": {},
   "outputs": [],
   "source": []
  },
  {
   "cell_type": "code",
   "execution_count": 4,
   "id": "2ead8ebd",
   "metadata": {},
   "outputs": [],
   "source": [
    "cars.sort()"
   ]
  },
  {
   "cell_type": "code",
   "execution_count": 5,
   "id": "f4cc2f2d",
   "metadata": {},
   "outputs": [
    {
     "name": "stdout",
     "output_type": "stream",
     "text": [
      "['audi', 'benz', 'bmw', 'honda', 'kia', 'maruti']\n"
     ]
    }
   ],
   "source": [
    "print(cars)"
   ]
  },
  {
   "cell_type": "code",
   "execution_count": 6,
   "id": "9c7a7dbf",
   "metadata": {},
   "outputs": [
    {
     "name": "stdout",
     "output_type": "stream",
     "text": [
      "['audi', 'benz', 'bmw', 'honda', 'kia', 'maruti']\n"
     ]
    }
   ],
   "source": [
    "print(cars)"
   ]
  },
  {
   "cell_type": "code",
   "execution_count": null,
   "id": "015b0d19",
   "metadata": {},
   "outputs": [],
   "source": [
    "interview question : what is the diff btw sorted and sort method in the list"
   ]
  },
  {
   "cell_type": "code",
   "execution_count": null,
   "id": "16b4824e",
   "metadata": {},
   "outputs": [],
   "source": []
  },
  {
   "cell_type": "code",
   "execution_count": null,
   "id": "4f5e9f67",
   "metadata": {},
   "outputs": [],
   "source": [
    "# i want to print the list in the reverse order....?"
   ]
  },
  {
   "cell_type": "code",
   "execution_count": 7,
   "id": "012bc71d",
   "metadata": {},
   "outputs": [
    {
     "name": "stdout",
     "output_type": "stream",
     "text": [
      "['audi', 'benz', 'bmw', 'honda', 'kia', 'maruti']\n"
     ]
    }
   ],
   "source": [
    "print(cars)"
   ]
  },
  {
   "cell_type": "code",
   "execution_count": null,
   "id": "e7b28b2a",
   "metadata": {},
   "outputs": [],
   "source": []
  },
  {
   "cell_type": "code",
   "execution_count": null,
   "id": "b5685f52",
   "metadata": {},
   "outputs": [],
   "source": [
    "# mariti, kia, honda, bmw, benz, and audi..."
   ]
  },
  {
   "cell_type": "code",
   "execution_count": 8,
   "id": "5a81aaa1",
   "metadata": {},
   "outputs": [],
   "source": [
    "cars.reverse()"
   ]
  },
  {
   "cell_type": "code",
   "execution_count": 9,
   "id": "15a5e756",
   "metadata": {},
   "outputs": [
    {
     "name": "stdout",
     "output_type": "stream",
     "text": [
      "['maruti', 'kia', 'honda', 'bmw', 'benz', 'audi']\n"
     ]
    }
   ],
   "source": [
    "print(cars)"
   ]
  },
  {
   "cell_type": "code",
   "execution_count": null,
   "id": "d64ce266",
   "metadata": {},
   "outputs": [],
   "source": []
  },
  {
   "cell_type": "code",
   "execution_count": null,
   "id": "e27c346c",
   "metadata": {},
   "outputs": [],
   "source": [
    "# i want know the no of elements in the list....?"
   ]
  },
  {
   "cell_type": "code",
   "execution_count": 10,
   "id": "696e66c7",
   "metadata": {},
   "outputs": [
    {
     "data": {
      "text/plain": [
       "6"
      ]
     },
     "execution_count": 10,
     "metadata": {},
     "output_type": "execute_result"
    }
   ],
   "source": [
    "len(cars)"
   ]
  },
  {
   "cell_type": "code",
   "execution_count": null,
   "id": "ee35681c",
   "metadata": {},
   "outputs": [],
   "source": []
  },
  {
   "cell_type": "code",
   "execution_count": null,
   "id": "797df58a",
   "metadata": {},
   "outputs": [],
   "source": [
    "introduction to slicing : "
   ]
  },
  {
   "cell_type": "code",
   "execution_count": 12,
   "id": "49ad78a8",
   "metadata": {},
   "outputs": [],
   "source": [
    "students = ['trinath', 'akhil', 'ansari', 'david', 'sadiya', 'iqra', 'divya', 'swathi']"
   ]
  },
  {
   "cell_type": "code",
   "execution_count": 13,
   "id": "d48bc13f",
   "metadata": {},
   "outputs": [
    {
     "name": "stdout",
     "output_type": "stream",
     "text": [
      "['trinath', 'akhil', 'ansari', 'david', 'sadiya', 'iqra', 'divya', 'swathi']\n"
     ]
    }
   ],
   "source": [
    "print(students)"
   ]
  },
  {
   "cell_type": "code",
   "execution_count": 14,
   "id": "d3f7b269",
   "metadata": {},
   "outputs": [
    {
     "data": {
      "text/plain": [
       "list"
      ]
     },
     "execution_count": 14,
     "metadata": {},
     "output_type": "execute_result"
    }
   ],
   "source": [
    "type(students)"
   ]
  },
  {
   "cell_type": "code",
   "execution_count": null,
   "id": "a628b6e8",
   "metadata": {},
   "outputs": [],
   "source": [
    "# general sytax of slicing "
   ]
  },
  {
   "cell_type": "code",
   "execution_count": null,
   "id": "0271f9c7",
   "metadata": {},
   "outputs": [],
   "source": [
    "[startvalue:stopvalue:stepcount]"
   ]
  },
  {
   "cell_type": "code",
   "execution_count": null,
   "id": "5951a008",
   "metadata": {},
   "outputs": [],
   "source": [
    "Note : stop value is always exclusive to include we have to inreament the index by +1."
   ]
  },
  {
   "cell_type": "code",
   "execution_count": 15,
   "id": "e1dc237d",
   "metadata": {},
   "outputs": [
    {
     "name": "stdout",
     "output_type": "stream",
     "text": [
      "['trinath']\n"
     ]
    }
   ],
   "source": [
    "print(students[0:1])"
   ]
  },
  {
   "cell_type": "code",
   "execution_count": 16,
   "id": "80e5ce45",
   "metadata": {},
   "outputs": [
    {
     "name": "stdout",
     "output_type": "stream",
     "text": [
      "['trinath', 'akhil']\n"
     ]
    }
   ],
   "source": [
    "print(students[0:2])"
   ]
  },
  {
   "cell_type": "code",
   "execution_count": null,
   "id": "7767aad2",
   "metadata": {},
   "outputs": [],
   "source": [
    "# ansari and david...."
   ]
  },
  {
   "cell_type": "code",
   "execution_count": 17,
   "id": "9db45b11",
   "metadata": {},
   "outputs": [
    {
     "name": "stdout",
     "output_type": "stream",
     "text": [
      "['ansari', 'david']\n"
     ]
    }
   ],
   "source": [
    "print(students[2:4])"
   ]
  },
  {
   "cell_type": "code",
   "execution_count": 18,
   "id": "ae38fd00",
   "metadata": {},
   "outputs": [
    {
     "name": "stdout",
     "output_type": "stream",
     "text": [
      "['divya', 'swathi']\n"
     ]
    }
   ],
   "source": [
    "print(students[6:8])"
   ]
  },
  {
   "cell_type": "code",
   "execution_count": null,
   "id": "5328a9a4",
   "metadata": {},
   "outputs": [],
   "source": []
  },
  {
   "cell_type": "code",
   "execution_count": 19,
   "id": "50078328",
   "metadata": {},
   "outputs": [
    {
     "name": "stdout",
     "output_type": "stream",
     "text": [
      "['trinath', 'akhil', 'ansari', 'david', 'sadiya', 'iqra', 'divya', 'swathi']\n"
     ]
    }
   ],
   "source": [
    "print(students)"
   ]
  },
  {
   "cell_type": "code",
   "execution_count": 20,
   "id": "22dced77",
   "metadata": {},
   "outputs": [
    {
     "name": "stdout",
     "output_type": "stream",
     "text": [
      "['trinath', 'ansari', 'sadiya', 'divya']\n"
     ]
    }
   ],
   "source": [
    "print(students[0:8:2])"
   ]
  },
  {
   "cell_type": "code",
   "execution_count": 21,
   "id": "1094bddb",
   "metadata": {},
   "outputs": [
    {
     "name": "stdout",
     "output_type": "stream",
     "text": [
      "['trinath', 'david', 'divya']\n"
     ]
    }
   ],
   "source": [
    "print(students[0:8:3])"
   ]
  },
  {
   "cell_type": "code",
   "execution_count": 22,
   "id": "1fd72340",
   "metadata": {},
   "outputs": [
    {
     "name": "stdout",
     "output_type": "stream",
     "text": [
      "['trinath', 'sadiya']\n"
     ]
    }
   ],
   "source": [
    "print(students[0:8:4])"
   ]
  },
  {
   "cell_type": "code",
   "execution_count": 23,
   "id": "d0d8864a",
   "metadata": {},
   "outputs": [
    {
     "name": "stdout",
     "output_type": "stream",
     "text": [
      "['trinath', 'iqra']\n"
     ]
    }
   ],
   "source": [
    "print(students[0:8:5])"
   ]
  },
  {
   "cell_type": "code",
   "execution_count": 24,
   "id": "4b643448",
   "metadata": {},
   "outputs": [
    {
     "name": "stdout",
     "output_type": "stream",
     "text": [
      "['trinath', 'divya']\n"
     ]
    }
   ],
   "source": [
    "print(students[0:8:6])"
   ]
  },
  {
   "cell_type": "code",
   "execution_count": 25,
   "id": "a3c0aeca",
   "metadata": {},
   "outputs": [
    {
     "name": "stdout",
     "output_type": "stream",
     "text": [
      "['trinath', 'swathi']\n"
     ]
    }
   ],
   "source": [
    "print(students[0:8:7])"
   ]
  },
  {
   "cell_type": "code",
   "execution_count": null,
   "id": "031ce1fc",
   "metadata": {},
   "outputs": [],
   "source": []
  }
 ],
 "metadata": {
  "kernelspec": {
   "display_name": "Python 3 (ipykernel)",
   "language": "python",
   "name": "python3"
  },
  "language_info": {
   "codemirror_mode": {
    "name": "ipython",
    "version": 3
   },
   "file_extension": ".py",
   "mimetype": "text/x-python",
   "name": "python",
   "nbconvert_exporter": "python",
   "pygments_lexer": "ipython3",
   "version": "3.9.13"
  }
 },
 "nbformat": 4,
 "nbformat_minor": 5
}
