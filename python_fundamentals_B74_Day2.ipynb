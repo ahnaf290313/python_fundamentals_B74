{
 "cells": [
  {
   "cell_type": "code",
   "execution_count": null,
   "id": "e99ee1d9",
   "metadata": {},
   "outputs": [],
   "source": [
    "understanding the variables in python:"
   ]
  },
  {
   "cell_type": "code",
   "execution_count": 1,
   "id": "8aedbcd0",
   "metadata": {},
   "outputs": [
    {
     "name": "stdout",
     "output_type": "stream",
     "text": [
      "7\n"
     ]
    }
   ],
   "source": [
    "x = 5\n",
    "y = 2\n",
    "z = x + y\n",
    "print (z)"
   ]
  },
  {
   "cell_type": "code",
   "execution_count": null,
   "id": "6f7b8550",
   "metadata": {},
   "outputs": [],
   "source": [
    "Rules for declaring the variables in python:"
   ]
  },
  {
   "cell_type": "code",
   "execution_count": null,
   "id": "29d44d13",
   "metadata": {},
   "outputs": [],
   "source": [
    "Rule 1 : No Namespace while declaring the variable in python"
   ]
  },
  {
   "cell_type": "code",
   "execution_count": 5,
   "id": "f2246672",
   "metadata": {},
   "outputs": [
    {
     "ename": "SyntaxError",
     "evalue": "invalid syntax (3626460174.py, line 1)",
     "output_type": "error",
     "traceback": [
      "\u001b[0;36m  File \u001b[0;32m\"/var/folders/9x/yqdq3pnj47qgz4g5pr7cv3wr0000gn/T/ipykernel_74077/3626460174.py\"\u001b[0;36m, line \u001b[0;32m1\u001b[0m\n\u001b[0;31m    first name = 'Athar'\u001b[0m\n\u001b[0m          ^\u001b[0m\n\u001b[0;31mSyntaxError\u001b[0m\u001b[0;31m:\u001b[0m invalid syntax\n"
     ]
    }
   ],
   "source": [
    "first name = 'Athar'\n",
    "\n",
    "print(first name)"
   ]
  },
  {
   "cell_type": "code",
   "execution_count": 6,
   "id": "e4cb82bf",
   "metadata": {},
   "outputs": [
    {
     "name": "stdout",
     "output_type": "stream",
     "text": [
      "Athar\n"
     ]
    }
   ],
   "source": [
    "firstname = 'Athar'\n",
    "\n",
    "print(firstname)"
   ]
  },
  {
   "cell_type": "code",
   "execution_count": 7,
   "id": "771b29da",
   "metadata": {},
   "outputs": [
    {
     "name": "stdout",
     "output_type": "stream",
     "text": [
      "Athar\n"
     ]
    }
   ],
   "source": [
    "first_name = 'Athar'\n",
    "\n",
    "print(first_name)"
   ]
  },
  {
   "cell_type": "code",
   "execution_count": null,
   "id": "30652f95",
   "metadata": {},
   "outputs": [],
   "source": [
    "Rule 2 : A variable name should not start with the number **"
   ]
  },
  {
   "cell_type": "code",
   "execution_count": 8,
   "id": "d4e4d5b8",
   "metadata": {},
   "outputs": [
    {
     "ename": "SyntaxError",
     "evalue": "invalid syntax (1174165138.py, line 1)",
     "output_type": "error",
     "traceback": [
      "\u001b[0;36m  File \u001b[0;32m\"/var/folders/9x/yqdq3pnj47qgz4g5pr7cv3wr0000gn/T/ipykernel_74077/1174165138.py\"\u001b[0;36m, line \u001b[0;32m1\u001b[0m\n\u001b[0;31m    1name = 'rahul'\u001b[0m\n\u001b[0m     ^\u001b[0m\n\u001b[0;31mSyntaxError\u001b[0m\u001b[0;31m:\u001b[0m invalid syntax\n"
     ]
    }
   ],
   "source": [
    "1name = 'rahul'\n",
    "\n",
    "print(1name)"
   ]
  },
  {
   "cell_type": "code",
   "execution_count": 10,
   "id": "6fce2c4c",
   "metadata": {},
   "outputs": [
    {
     "name": "stdout",
     "output_type": "stream",
     "text": [
      "rahul\n"
     ]
    }
   ],
   "source": [
    "name1 = 'rahul'\n",
    "\n",
    "print(name1)"
   ]
  },
  {
   "cell_type": "code",
   "execution_count": null,
   "id": "949a39b6",
   "metadata": {},
   "outputs": [],
   "source": [
    "Rule 3 : A variable name should not contain with special characters"
   ]
  },
  {
   "cell_type": "code",
   "execution_count": null,
   "id": "2cea23a3",
   "metadata": {},
   "outputs": [],
   "source": [
    "@ # $ % ^ & "
   ]
  },
  {
   "cell_type": "code",
   "execution_count": 11,
   "id": "8c1e38aa",
   "metadata": {},
   "outputs": [
    {
     "ename": "SyntaxError",
     "evalue": "invalid syntax (1105733249.py, line 1)",
     "output_type": "error",
     "traceback": [
      "\u001b[0;36m  File \u001b[0;32m\"/var/folders/9x/yqdq3pnj47qgz4g5pr7cv3wr0000gn/T/ipykernel_74077/1105733249.py\"\u001b[0;36m, line \u001b[0;32m1\u001b[0m\n\u001b[0;31m    name@ = 'divya'\u001b[0m\n\u001b[0m          ^\u001b[0m\n\u001b[0;31mSyntaxError\u001b[0m\u001b[0;31m:\u001b[0m invalid syntax\n"
     ]
    }
   ],
   "source": [
    "name@ = 'divya'\n",
    "\n",
    "print(name@)"
   ]
  },
  {
   "cell_type": "code",
   "execution_count": null,
   "id": "f1cffba1",
   "metadata": {},
   "outputs": [],
   "source": [
    "introduction to data types in python : \n",
    "    \n",
    "    1. strings ======> str\n",
    "    \n",
    "    2. lists ========> list\n",
    "    \n",
    "    3. Numbers ------> integers ( int ) and float(decimals)\n",
    "    \n",
    "    4. tules ======> tuple \n",
    "    \n",
    "    5. Dictionaries ========> dict"
   ]
  },
  {
   "cell_type": "code",
   "execution_count": null,
   "id": "3215e055",
   "metadata": {},
   "outputs": [],
   "source": [
    "classification of datatypes : \n",
    "    \n",
    "    Broadly datatypes  are classified in to two categories : \n",
    "        \n",
    "        1. mutable datatypes -------> which we can edit or alter -----> flexible in nature\n",
    "        \n",
    "        2. immutable datatypes ------> which we cannot edit or alter ------> fixed in nature.\n",
    "    "
   ]
  },
  {
   "cell_type": "code",
   "execution_count": null,
   "id": "d6e302d8",
   "metadata": {},
   "outputs": [],
   "source": [
    "introduction to sring datatype :\n",
    "    \n",
    "    defination : A string is series of characters declared in quotes.\n",
    "    \n",
    "    classification : it is classified as an immutable datatype.\n",
    "        \n",
    "    how to declare the string datatypes---------?\n",
    "    \n",
    "    2 approaches\n",
    "    \n",
    "    1. single quote\n",
    "    \n",
    "    2. double quote\n",
    "    "
   ]
  },
  {
   "cell_type": "code",
   "execution_count": 12,
   "id": "b7bbd842",
   "metadata": {},
   "outputs": [
    {
     "name": "stdout",
     "output_type": "stream",
     "text": [
      "john\n"
     ]
    }
   ],
   "source": [
    "name = 'john'  # single quote\n",
    "\n",
    "print(name)"
   ]
  },
  {
   "cell_type": "code",
   "execution_count": 13,
   "id": "218e2db8",
   "metadata": {},
   "outputs": [
    {
     "name": "stdout",
     "output_type": "stream",
     "text": [
      "peter\n"
     ]
    }
   ],
   "source": [
    "name2 = \"peter\"  # double quotes\n",
    "\n",
    "print(name2)"
   ]
  },
  {
   "cell_type": "code",
   "execution_count": null,
   "id": "a061d75b",
   "metadata": {},
   "outputs": [],
   "source": [
    "introduction to string methods : "
   ]
  },
  {
   "cell_type": "code",
   "execution_count": null,
   "id": "968c4d95",
   "metadata": {},
   "outputs": [],
   "source": [
    "methods are nothing but builtin programs that are available in python to use directly."
   ]
  },
  {
   "cell_type": "code",
   "execution_count": 14,
   "id": "d1876c2d",
   "metadata": {},
   "outputs": [
    {
     "data": {
      "text/plain": [
       "str"
      ]
     },
     "execution_count": 14,
     "metadata": {},
     "output_type": "execute_result"
    }
   ],
   "source": [
    "type(name)"
   ]
  },
  {
   "cell_type": "code",
   "execution_count": 15,
   "id": "63f90315",
   "metadata": {},
   "outputs": [
    {
     "data": {
      "text/plain": [
       "str"
      ]
     },
     "execution_count": 15,
     "metadata": {},
     "output_type": "execute_result"
    }
   ],
   "source": [
    "type(name2)"
   ]
  },
  {
   "cell_type": "code",
   "execution_count": null,
   "id": "9f47ad3a",
   "metadata": {},
   "outputs": [],
   "source": []
  },
  {
   "cell_type": "code",
   "execution_count": 16,
   "id": "cdce5398",
   "metadata": {},
   "outputs": [
    {
     "name": "stdout",
     "output_type": "stream",
     "text": [
      "mohammad athar\n"
     ]
    }
   ],
   "source": [
    "fullname = 'mohammad athar'\n",
    "\n",
    "print(fullname)"
   ]
  },
  {
   "cell_type": "code",
   "execution_count": null,
   "id": "c59b2867",
   "metadata": {},
   "outputs": [],
   "source": [
    "# req : to get in the right format"
   ]
  },
  {
   "cell_type": "code",
   "execution_count": 18,
   "id": "f121b8ab",
   "metadata": {},
   "outputs": [
    {
     "name": "stdout",
     "output_type": "stream",
     "text": [
      "Mohammad Athar\n"
     ]
    }
   ],
   "source": [
    "print(fullname.title())"
   ]
  },
  {
   "cell_type": "code",
   "execution_count": null,
   "id": "e738d264",
   "metadata": {},
   "outputs": [],
   "source": [
    "# re : to get the name in capital letters"
   ]
  },
  {
   "cell_type": "code",
   "execution_count": 17,
   "id": "5a43a4c9",
   "metadata": {},
   "outputs": [
    {
     "name": "stdout",
     "output_type": "stream",
     "text": [
      "MOHAMMAD ATHAR\n"
     ]
    }
   ],
   "source": [
    "print(fullname.upper())"
   ]
  },
  {
   "cell_type": "code",
   "execution_count": null,
   "id": "644989b0",
   "metadata": {},
   "outputs": [],
   "source": [
    "# req : to get the name in small letters"
   ]
  },
  {
   "cell_type": "code",
   "execution_count": 19,
   "id": "dc8ac854",
   "metadata": {},
   "outputs": [
    {
     "name": "stdout",
     "output_type": "stream",
     "text": [
      "mohammad athar\n"
     ]
    }
   ],
   "source": [
    "print(fullname.lower())"
   ]
  },
  {
   "cell_type": "code",
   "execution_count": null,
   "id": "026665fc",
   "metadata": {},
   "outputs": [],
   "source": []
  }
 ],
 "metadata": {
  "kernelspec": {
   "display_name": "Python 3 (ipykernel)",
   "language": "python",
   "name": "python3"
  },
  "language_info": {
   "codemirror_mode": {
    "name": "ipython",
    "version": 3
   },
   "file_extension": ".py",
   "mimetype": "text/x-python",
   "name": "python",
   "nbconvert_exporter": "python",
   "pygments_lexer": "ipython3",
   "version": "3.9.13"
  }
 },
 "nbformat": 4,
 "nbformat_minor": 5
}
