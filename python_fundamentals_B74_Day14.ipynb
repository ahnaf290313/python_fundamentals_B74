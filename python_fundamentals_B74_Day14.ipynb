{
 "cells": [
  {
   "cell_type": "code",
   "execution_count": null,
   "id": "7d54a5fe",
   "metadata": {},
   "outputs": [],
   "source": [
    "introduction to conditional statement : "
   ]
  },
  {
   "cell_type": "code",
   "execution_count": null,
   "id": "ed57b060",
   "metadata": {},
   "outputs": [],
   "source": []
  },
  {
   "cell_type": "code",
   "execution_count": null,
   "id": "bd5da912",
   "metadata": {},
   "outputs": [],
   "source": [
    "# general syntax of a conditional statement : "
   ]
  },
  {
   "cell_type": "code",
   "execution_count": null,
   "id": "484916ee",
   "metadata": {},
   "outputs": [],
   "source": []
  },
  {
   "cell_type": "code",
   "execution_count": null,
   "id": "464f71b3",
   "metadata": {},
   "outputs": [],
   "source": [
    "if conditional test :\n",
    "    do something\n",
    "else:\n",
    "    do something different"
   ]
  },
  {
   "cell_type": "code",
   "execution_count": null,
   "id": "bb88fd81",
   "metadata": {},
   "outputs": [],
   "source": []
  },
  {
   "cell_type": "code",
   "execution_count": 1,
   "id": "2657f53d",
   "metadata": {},
   "outputs": [],
   "source": [
    "cars = ['bmw', 'toyota', 'suzuki', 'maruthi', 'audi']"
   ]
  },
  {
   "cell_type": "code",
   "execution_count": 2,
   "id": "3750284e",
   "metadata": {},
   "outputs": [
    {
     "name": "stdout",
     "output_type": "stream",
     "text": [
      "['bmw', 'toyota', 'suzuki', 'maruthi', 'audi']\n"
     ]
    }
   ],
   "source": [
    "print(cars)"
   ]
  },
  {
   "cell_type": "code",
   "execution_count": 3,
   "id": "dec9cfbd",
   "metadata": {},
   "outputs": [
    {
     "data": {
      "text/plain": [
       "list"
      ]
     },
     "execution_count": 3,
     "metadata": {},
     "output_type": "execute_result"
    }
   ],
   "source": [
    "type(cars)"
   ]
  },
  {
   "cell_type": "code",
   "execution_count": null,
   "id": "61c83e24",
   "metadata": {},
   "outputs": [],
   "source": [
    "# if the car is bmw....need to print that in capital letters"
   ]
  },
  {
   "cell_type": "code",
   "execution_count": 4,
   "id": "02673cfa",
   "metadata": {},
   "outputs": [
    {
     "ename": "AttributeError",
     "evalue": "'list' object has no attribute 'upper'",
     "output_type": "error",
     "traceback": [
      "\u001b[0;31m---------------------------------------------------------------------------\u001b[0m",
      "\u001b[0;31mAttributeError\u001b[0m                            Traceback (most recent call last)",
      "\u001b[0;32m/var/folders/9x/yqdq3pnj47qgz4g5pr7cv3wr0000gn/T/ipykernel_58506/1794576197.py\u001b[0m in \u001b[0;36m<module>\u001b[0;34m\u001b[0m\n\u001b[1;32m      1\u001b[0m \u001b[0;32mfor\u001b[0m \u001b[0mx\u001b[0m \u001b[0;32min\u001b[0m \u001b[0mcars\u001b[0m\u001b[0;34m:\u001b[0m\u001b[0;34m\u001b[0m\u001b[0;34m\u001b[0m\u001b[0m\n\u001b[1;32m      2\u001b[0m     \u001b[0;32mif\u001b[0m \u001b[0mx\u001b[0m \u001b[0;34m==\u001b[0m \u001b[0;34m'bmw'\u001b[0m\u001b[0;34m:\u001b[0m\u001b[0;34m\u001b[0m\u001b[0;34m\u001b[0m\u001b[0m\n\u001b[0;32m----> 3\u001b[0;31m         \u001b[0mprint\u001b[0m\u001b[0;34m(\u001b[0m\u001b[0mcars\u001b[0m\u001b[0;34m.\u001b[0m\u001b[0mupper\u001b[0m\u001b[0;34m(\u001b[0m\u001b[0;34m)\u001b[0m\u001b[0;34m)\u001b[0m\u001b[0;34m\u001b[0m\u001b[0;34m\u001b[0m\u001b[0m\n\u001b[0m\u001b[1;32m      4\u001b[0m     \u001b[0;32melse\u001b[0m\u001b[0;34m:\u001b[0m\u001b[0;34m\u001b[0m\u001b[0;34m\u001b[0m\u001b[0m\n\u001b[1;32m      5\u001b[0m         \u001b[0mprint\u001b[0m\u001b[0;34m(\u001b[0m\u001b[0mcars\u001b[0m\u001b[0;34m.\u001b[0m\u001b[0mtitle\u001b[0m\u001b[0;34m(\u001b[0m\u001b[0;34m)\u001b[0m\u001b[0;34m)\u001b[0m\u001b[0;34m\u001b[0m\u001b[0;34m\u001b[0m\u001b[0m\n",
      "\u001b[0;31mAttributeError\u001b[0m: 'list' object has no attribute 'upper'"
     ]
    }
   ],
   "source": [
    "for x in cars:\n",
    "    if x == 'bmw':\n",
    "        print(cars.upper())\n",
    "    else:\n",
    "        print(cars.title())"
   ]
  },
  {
   "cell_type": "code",
   "execution_count": null,
   "id": "3b3001f9",
   "metadata": {},
   "outputs": [],
   "source": [
    "for tempvar in mainvar:\n",
    "    print(tempvar)\n",
    "    \n",
    "    \n",
    "for x in cars:\n",
    "    print(x)"
   ]
  },
  {
   "cell_type": "code",
   "execution_count": 5,
   "id": "870476a1",
   "metadata": {},
   "outputs": [
    {
     "name": "stdout",
     "output_type": "stream",
     "text": [
      "BMW\n",
      "Toyota\n",
      "Suzuki\n",
      "Maruthi\n",
      "Audi\n"
     ]
    }
   ],
   "source": [
    "for x in cars:\n",
    "    if x == 'bmw':\n",
    "        print(x.upper())\n",
    "    else:\n",
    "        print(x.title())"
   ]
  },
  {
   "cell_type": "code",
   "execution_count": null,
   "id": "db591eeb",
   "metadata": {},
   "outputs": [],
   "source": [
    "# entry of the park on the conditions below :\n",
    "\n",
    "1. Admission for anyone under age 4 is free\n",
    "\n",
    "2. Admission for anyone between the age of 4 and 18 is 25 rs\n",
    "\n",
    "3. Admission for anyone with age 70 or older is 15 rs"
   ]
  },
  {
   "cell_type": "code",
   "execution_count": null,
   "id": "6adb698e",
   "metadata": {},
   "outputs": [],
   "source": []
  },
  {
   "cell_type": "code",
   "execution_count": 24,
   "id": "d8f1f994",
   "metadata": {},
   "outputs": [],
   "source": [
    "age = 4"
   ]
  },
  {
   "cell_type": "code",
   "execution_count": 20,
   "id": "c0da87ad",
   "metadata": {},
   "outputs": [
    {
     "name": "stdout",
     "output_type": "stream",
     "text": [
      "your entry fee is 15\n"
     ]
    }
   ],
   "source": [
    "if age <= 4:\n",
    "    print(\" your entry is free\")\n",
    "elif age <= 18:\n",
    "    print(\"your entry fee is 25\")\n",
    "else :\n",
    "    print(\"your entry fee is 15\")\n",
    "        "
   ]
  },
  {
   "cell_type": "code",
   "execution_count": 23,
   "id": "c542ae22",
   "metadata": {},
   "outputs": [
    {
     "name": "stdout",
     "output_type": "stream",
     "text": [
      "your entry fee is 25\n"
     ]
    }
   ],
   "source": [
    "if age <= 4:\n",
    "    print(\" your entry is free\")\n",
    "elif age <= 18:\n",
    "    print(\"your entry fee is 25\")\n",
    "else :\n",
    "    print(\"your entry fee is 15\")\n",
    "        "
   ]
  },
  {
   "cell_type": "code",
   "execution_count": 25,
   "id": "456ae1de",
   "metadata": {},
   "outputs": [
    {
     "name": "stdout",
     "output_type": "stream",
     "text": [
      "your entry fee is 25\n"
     ]
    }
   ],
   "source": [
    "if age < 4:\n",
    "    print(\" your entry is free\")\n",
    "elif age < 18:\n",
    "    print(\"your entry fee is 25\")\n",
    "else :\n",
    "    print(\"your entry fee is 15\")\n",
    "        "
   ]
  },
  {
   "cell_type": "code",
   "execution_count": null,
   "id": "aa1fbb40",
   "metadata": {},
   "outputs": [],
   "source": []
  },
  {
   "cell_type": "code",
   "execution_count": null,
   "id": "988d96ec",
   "metadata": {},
   "outputs": [],
   "source": [
    "Accepting the user input :"
   ]
  },
  {
   "cell_type": "code",
   "execution_count": 27,
   "id": "b365ea89",
   "metadata": {},
   "outputs": [
    {
     "name": "stdout",
     "output_type": "stream",
     "text": [
      "tell me something and i will repeat it for you:how are you\n",
      "how are you\n"
     ]
    }
   ],
   "source": [
    "message = input(\"tell me something and i will repeat it for you:\")\n",
    "print(message)"
   ]
  },
  {
   "cell_type": "code",
   "execution_count": null,
   "id": "51927c18",
   "metadata": {},
   "outputs": [],
   "source": [
    "# greeting the user"
   ]
  },
  {
   "cell_type": "code",
   "execution_count": 28,
   "id": "97287ea7",
   "metadata": {},
   "outputs": [
    {
     "name": "stdout",
     "output_type": "stream",
     "text": [
      "please enter your name:athar\n",
      "Hello, athar!\n"
     ]
    }
   ],
   "source": [
    "name = input(\"please enter your name:\")\n",
    "\n",
    "print(f\"Hello, {name}!\")"
   ]
  },
  {
   "cell_type": "code",
   "execution_count": null,
   "id": "3c625032",
   "metadata": {},
   "outputs": [],
   "source": []
  },
  {
   "cell_type": "code",
   "execution_count": null,
   "id": "76dcf110",
   "metadata": {},
   "outputs": [],
   "source": [
    "Note : input function will be accepting in the string format always"
   ]
  },
  {
   "cell_type": "code",
   "execution_count": null,
   "id": "be8a167a",
   "metadata": {},
   "outputs": [],
   "source": []
  },
  {
   "cell_type": "code",
   "execution_count": 29,
   "id": "767b9b43",
   "metadata": {},
   "outputs": [
    {
     "name": "stdout",
     "output_type": "stream",
     "text": [
      "how old are you?15\n"
     ]
    }
   ],
   "source": [
    "age = input(\"how old are you?\")"
   ]
  },
  {
   "cell_type": "code",
   "execution_count": 30,
   "id": "b1598aaa",
   "metadata": {},
   "outputs": [
    {
     "data": {
      "text/plain": [
       "str"
      ]
     },
     "execution_count": 30,
     "metadata": {},
     "output_type": "execute_result"
    }
   ],
   "source": [
    "type(age)"
   ]
  },
  {
   "cell_type": "code",
   "execution_count": 31,
   "id": "aced5f51",
   "metadata": {},
   "outputs": [],
   "source": [
    "age = int(age)"
   ]
  },
  {
   "cell_type": "code",
   "execution_count": 32,
   "id": "c3f1c306",
   "metadata": {},
   "outputs": [
    {
     "data": {
      "text/plain": [
       "int"
      ]
     },
     "execution_count": 32,
     "metadata": {},
     "output_type": "execute_result"
    }
   ],
   "source": [
    "type(age)"
   ]
  },
  {
   "cell_type": "code",
   "execution_count": null,
   "id": "0eaf1a20",
   "metadata": {},
   "outputs": [],
   "source": [
    "# req : Building a simple voting application :"
   ]
  },
  {
   "cell_type": "code",
   "execution_count": null,
   "id": "910f5039",
   "metadata": {},
   "outputs": [],
   "source": []
  },
  {
   "cell_type": "code",
   "execution_count": 34,
   "id": "aa605410",
   "metadata": {},
   "outputs": [
    {
     "name": "stdout",
     "output_type": "stream",
     "text": [
      "plz enter your age :15\n",
      "you are not eligible for vote\n"
     ]
    }
   ],
   "source": [
    "age = input(\"plz enter your age :\")\n",
    "age = int(age)\n",
    "\n",
    "\n",
    "if age >= 18:\n",
    "    print(\"you are eligible to vote\")\n",
    "else:\n",
    "    print(\"you are not eligible for vote\")"
   ]
  },
  {
   "cell_type": "code",
   "execution_count": null,
   "id": "28301f69",
   "metadata": {},
   "outputs": [],
   "source": []
  },
  {
   "cell_type": "code",
   "execution_count": null,
   "id": "d76f4d70",
   "metadata": {},
   "outputs": [],
   "source": []
  },
  {
   "cell_type": "code",
   "execution_count": null,
   "id": "ef776f1c",
   "metadata": {},
   "outputs": [],
   "source": []
  }
 ],
 "metadata": {
  "kernelspec": {
   "display_name": "Python 3 (ipykernel)",
   "language": "python",
   "name": "python3"
  },
  "language_info": {
   "codemirror_mode": {
    "name": "ipython",
    "version": 3
   },
   "file_extension": ".py",
   "mimetype": "text/x-python",
   "name": "python",
   "nbconvert_exporter": "python",
   "pygments_lexer": "ipython3",
   "version": "3.9.13"
  }
 },
 "nbformat": 4,
 "nbformat_minor": 5
}
