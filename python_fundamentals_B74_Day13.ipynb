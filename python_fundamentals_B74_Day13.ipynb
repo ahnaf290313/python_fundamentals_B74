{
 "cells": [
  {
   "cell_type": "code",
   "execution_count": null,
   "id": "46936e87",
   "metadata": {},
   "outputs": [],
   "source": [
    "File handling in python : "
   ]
  },
  {
   "cell_type": "code",
   "execution_count": null,
   "id": "ab8ea1c9",
   "metadata": {},
   "outputs": [],
   "source": []
  },
  {
   "cell_type": "code",
   "execution_count": null,
   "id": "27dd589b",
   "metadata": {},
   "outputs": [],
   "source": [
    "1. how to read the files in python\n",
    "\n",
    "2. how to write the files in python\n",
    "\n",
    "3. how to append the files in python"
   ]
  },
  {
   "cell_type": "code",
   "execution_count": null,
   "id": "77f614d0",
   "metadata": {},
   "outputs": [],
   "source": []
  },
  {
   "cell_type": "code",
   "execution_count": null,
   "id": "c63a12d1",
   "metadata": {},
   "outputs": [],
   "source": [
    "1. how to read the files in python"
   ]
  },
  {
   "cell_type": "code",
   "execution_count": null,
   "id": "9c5111a5",
   "metadata": {},
   "outputs": [],
   "source": []
  },
  {
   "cell_type": "code",
   "execution_count": 6,
   "id": "6948df1d",
   "metadata": {},
   "outputs": [],
   "source": [
    "file = open('numbers.txt', 'r')"
   ]
  },
  {
   "cell_type": "code",
   "execution_count": 7,
   "id": "fdf06a33",
   "metadata": {},
   "outputs": [
    {
     "name": "stdout",
     "output_type": "stream",
     "text": [
      "123\n",
      "456\n",
      "678\n"
     ]
    }
   ],
   "source": [
    "print(file.read())"
   ]
  },
  {
   "cell_type": "code",
   "execution_count": null,
   "id": "31de266f",
   "metadata": {},
   "outputs": [],
   "source": []
  },
  {
   "cell_type": "code",
   "execution_count": null,
   "id": "cbd8ca60",
   "metadata": {},
   "outputs": [],
   "source": [
    "2. how to write the files in python"
   ]
  },
  {
   "cell_type": "code",
   "execution_count": null,
   "id": "a0b2198f",
   "metadata": {},
   "outputs": [],
   "source": []
  },
  {
   "cell_type": "code",
   "execution_count": 8,
   "id": "b803aad5",
   "metadata": {},
   "outputs": [],
   "source": [
    "file = open('numbers.txt', 'w')"
   ]
  },
  {
   "cell_type": "code",
   "execution_count": 13,
   "id": "bf0964bf",
   "metadata": {},
   "outputs": [
    {
     "ename": "ValueError",
     "evalue": "I/O operation on closed file.",
     "output_type": "error",
     "traceback": [
      "\u001b[0;31m---------------------------------------------------------------------------\u001b[0m",
      "\u001b[0;31mValueError\u001b[0m                                Traceback (most recent call last)",
      "\u001b[0;32m/var/folders/9x/yqdq3pnj47qgz4g5pr7cv3wr0000gn/T/ipykernel_51484/2377925069.py\u001b[0m in \u001b[0;36m<module>\u001b[0;34m\u001b[0m\n\u001b[0;32m----> 1\u001b[0;31m \u001b[0mfile\u001b[0m\u001b[0;34m.\u001b[0m\u001b[0mwrite\u001b[0m\u001b[0;34m(\u001b[0m\u001b[0;34m\"this is test\"\u001b[0m\u001b[0;34m)\u001b[0m\u001b[0;34m\u001b[0m\u001b[0;34m\u001b[0m\u001b[0m\n\u001b[0m\u001b[1;32m      2\u001b[0m \u001b[0mfile\u001b[0m\u001b[0;34m.\u001b[0m\u001b[0mwrite\u001b[0m\u001b[0;34m(\u001b[0m\u001b[0;34m'to verify how the data is coming'\u001b[0m\u001b[0;34m)\u001b[0m\u001b[0;34m\u001b[0m\u001b[0;34m\u001b[0m\u001b[0m\n\u001b[1;32m      3\u001b[0m \u001b[0;31m#file.close()\u001b[0m\u001b[0;34m\u001b[0m\u001b[0;34m\u001b[0m\u001b[0m\n",
      "\u001b[0;31mValueError\u001b[0m: I/O operation on closed file."
     ]
    }
   ],
   "source": [
    "file.write(\"this is test\")\n",
    "file.write('to verify how the data is coming')\n",
    "#file.close()"
   ]
  },
  {
   "cell_type": "code",
   "execution_count": 10,
   "id": "a550ff75",
   "metadata": {},
   "outputs": [
    {
     "ename": "ValueError",
     "evalue": "I/O operation on closed file.",
     "output_type": "error",
     "traceback": [
      "\u001b[0;31m---------------------------------------------------------------------------\u001b[0m",
      "\u001b[0;31mValueError\u001b[0m                                Traceback (most recent call last)",
      "\u001b[0;32m/var/folders/9x/yqdq3pnj47qgz4g5pr7cv3wr0000gn/T/ipykernel_51484/1097866510.py\u001b[0m in \u001b[0;36m<module>\u001b[0;34m\u001b[0m\n\u001b[0;32m----> 1\u001b[0;31m \u001b[0mprint\u001b[0m\u001b[0;34m(\u001b[0m\u001b[0mfile\u001b[0m\u001b[0;34m.\u001b[0m\u001b[0mread\u001b[0m\u001b[0;34m(\u001b[0m\u001b[0;34m)\u001b[0m\u001b[0;34m)\u001b[0m\u001b[0;34m\u001b[0m\u001b[0;34m\u001b[0m\u001b[0m\n\u001b[0m",
      "\u001b[0;31mValueError\u001b[0m: I/O operation on closed file."
     ]
    }
   ],
   "source": [
    "print(file.read())"
   ]
  },
  {
   "cell_type": "code",
   "execution_count": 14,
   "id": "29c8ec56",
   "metadata": {},
   "outputs": [],
   "source": [
    "file = open('numbers.txt', 'r')"
   ]
  },
  {
   "cell_type": "code",
   "execution_count": 15,
   "id": "465bb8ef",
   "metadata": {},
   "outputs": [
    {
     "name": "stdout",
     "output_type": "stream",
     "text": [
      "this is testto verify how the data is coming\n"
     ]
    }
   ],
   "source": [
    "print(file.read())"
   ]
  },
  {
   "cell_type": "code",
   "execution_count": null,
   "id": "6b434660",
   "metadata": {},
   "outputs": [],
   "source": []
  },
  {
   "cell_type": "code",
   "execution_count": null,
   "id": "a433ba14",
   "metadata": {},
   "outputs": [],
   "source": [
    "append mode : old + new data will be there in the file."
   ]
  },
  {
   "cell_type": "code",
   "execution_count": null,
   "id": "dd288290",
   "metadata": {},
   "outputs": [],
   "source": []
  },
  {
   "cell_type": "code",
   "execution_count": 16,
   "id": "c2d2cf1a",
   "metadata": {},
   "outputs": [],
   "source": [
    "file = open('numbers.txt', 'a')"
   ]
  },
  {
   "cell_type": "code",
   "execution_count": 17,
   "id": "5e946b1e",
   "metadata": {},
   "outputs": [
    {
     "data": {
      "text/plain": [
       "29"
      ]
     },
     "execution_count": 17,
     "metadata": {},
     "output_type": "execute_result"
    }
   ],
   "source": [
    "file.write(\"\\nthis is the append operation\")"
   ]
  },
  {
   "cell_type": "code",
   "execution_count": 18,
   "id": "16d35850",
   "metadata": {},
   "outputs": [],
   "source": [
    "file = open('numbers.txt', 'r')"
   ]
  },
  {
   "cell_type": "code",
   "execution_count": 19,
   "id": "b2e2af3e",
   "metadata": {},
   "outputs": [
    {
     "name": "stdout",
     "output_type": "stream",
     "text": [
      "this is testto verify how the data is coming\n",
      "this is the append operation\n"
     ]
    }
   ],
   "source": [
    "print(file.read())"
   ]
  },
  {
   "cell_type": "code",
   "execution_count": null,
   "id": "b25ef3c1",
   "metadata": {},
   "outputs": [],
   "source": []
  },
  {
   "cell_type": "code",
   "execution_count": 21,
   "id": "c761a3cd",
   "metadata": {},
   "outputs": [
    {
     "name": "stdout",
     "output_type": "stream",
     "text": [
      "this is testto verify how the data is coming\n",
      "this is the append operation\n"
     ]
    }
   ],
   "source": [
    "with open('numbers.txt') as file_object:\n",
    "    contents = file_object.read()\n",
    "print(contents)"
   ]
  },
  {
   "cell_type": "code",
   "execution_count": null,
   "id": "59e45d00",
   "metadata": {},
   "outputs": [],
   "source": []
  }
 ],
 "metadata": {
  "kernelspec": {
   "display_name": "Python 3 (ipykernel)",
   "language": "python",
   "name": "python3"
  },
  "language_info": {
   "codemirror_mode": {
    "name": "ipython",
    "version": 3
   },
   "file_extension": ".py",
   "mimetype": "text/x-python",
   "name": "python",
   "nbconvert_exporter": "python",
   "pygments_lexer": "ipython3",
   "version": "3.9.13"
  }
 },
 "nbformat": 4,
 "nbformat_minor": 5
}
