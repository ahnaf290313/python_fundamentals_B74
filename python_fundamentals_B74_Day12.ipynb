{
 "cells": [
  {
   "cell_type": "code",
   "execution_count": null,
   "id": "f389e7d0",
   "metadata": {},
   "outputs": [],
   "source": [
    "introduction to the python clases :"
   ]
  },
  {
   "cell_type": "code",
   "execution_count": null,
   "id": "f2e28895",
   "metadata": {},
   "outputs": [],
   "source": [
    "class : it is a blue print of the program defined at a high level. ===> we have to use keyword called class\n",
    "    \n",
    "method : a function written in the class is called as a method --- def\n",
    "    \n",
    "attribute : a variable written/declared inside the class is called as an attribute\n",
    "    \n",
    "self : A self is a temporary placeholder for an object\n",
    "    \n",
    "object/instance : it is an access/ entry points to access the class method.."
   ]
  },
  {
   "cell_type": "code",
   "execution_count": null,
   "id": "e73cacab",
   "metadata": {},
   "outputs": [],
   "source": []
  },
  {
   "cell_type": "code",
   "execution_count": 1,
   "id": "311228f1",
   "metadata": {},
   "outputs": [],
   "source": [
    "class classname:  # class name\n",
    "    \n",
    "    def createname(self, name): #method\n",
    "        self.name = name  # attribute    test.name = \"padma\"\n",
    "        \n",
    "    def displayname(self): #method\n",
    "        return self.name\n",
    "    \n",
    "    def greetname(self): #method\n",
    "        print(f\"Hello, {self.name}\")"
   ]
  },
  {
   "cell_type": "code",
   "execution_count": null,
   "id": "68f3d5d4",
   "metadata": {},
   "outputs": [],
   "source": []
  },
  {
   "cell_type": "code",
   "execution_count": 2,
   "id": "1661ff74",
   "metadata": {},
   "outputs": [],
   "source": [
    "test = classname()"
   ]
  },
  {
   "cell_type": "code",
   "execution_count": 3,
   "id": "a5fe5833",
   "metadata": {},
   "outputs": [],
   "source": [
    "test.createname('padma')"
   ]
  },
  {
   "cell_type": "code",
   "execution_count": 4,
   "id": "53b60cf1",
   "metadata": {},
   "outputs": [
    {
     "data": {
      "text/plain": [
       "'padma'"
      ]
     },
     "execution_count": 4,
     "metadata": {},
     "output_type": "execute_result"
    }
   ],
   "source": [
    "test.displayname()"
   ]
  },
  {
   "cell_type": "code",
   "execution_count": 5,
   "id": "6ac4c9bf",
   "metadata": {},
   "outputs": [
    {
     "name": "stdout",
     "output_type": "stream",
     "text": [
      "Hello, padma\n"
     ]
    }
   ],
   "source": [
    "test.greetname()"
   ]
  },
  {
   "cell_type": "code",
   "execution_count": null,
   "id": "619c58c7",
   "metadata": {},
   "outputs": [],
   "source": []
  },
  {
   "cell_type": "code",
   "execution_count": 6,
   "id": "9f6c21e6",
   "metadata": {},
   "outputs": [],
   "source": [
    "test2 = classname()"
   ]
  },
  {
   "cell_type": "code",
   "execution_count": 7,
   "id": "88be232c",
   "metadata": {},
   "outputs": [],
   "source": [
    "test2.createname('divya')"
   ]
  },
  {
   "cell_type": "code",
   "execution_count": 8,
   "id": "753330aa",
   "metadata": {},
   "outputs": [
    {
     "data": {
      "text/plain": [
       "'divya'"
      ]
     },
     "execution_count": 8,
     "metadata": {},
     "output_type": "execute_result"
    }
   ],
   "source": [
    "test2.displayname()"
   ]
  },
  {
   "cell_type": "code",
   "execution_count": 9,
   "id": "d4a43350",
   "metadata": {},
   "outputs": [
    {
     "name": "stdout",
     "output_type": "stream",
     "text": [
      "Hello, divya\n"
     ]
    }
   ],
   "source": [
    "test2.greetname()"
   ]
  },
  {
   "cell_type": "code",
   "execution_count": null,
   "id": "e7d4ca14",
   "metadata": {},
   "outputs": [],
   "source": []
  },
  {
   "cell_type": "code",
   "execution_count": null,
   "id": "9be6e405",
   "metadata": {},
   "outputs": [],
   "source": [
    "OOPS ------> object oriented programming"
   ]
  },
  {
   "cell_type": "code",
   "execution_count": null,
   "id": "850b8f98",
   "metadata": {},
   "outputs": [],
   "source": []
  },
  {
   "cell_type": "code",
   "execution_count": null,
   "id": "8cc53c67",
   "metadata": {},
   "outputs": [],
   "source": [
    "understanding the concept of constructor : it is called as a special method....!"
   ]
  },
  {
   "cell_type": "code",
   "execution_count": null,
   "id": "d2d4a524",
   "metadata": {},
   "outputs": [],
   "source": [
    "__init__ =====> initiating the attributes and the method."
   ]
  },
  {
   "cell_type": "code",
   "execution_count": null,
   "id": "a4547d8a",
   "metadata": {},
   "outputs": [],
   "source": []
  },
  {
   "cell_type": "code",
   "execution_count": 11,
   "id": "2be94edc",
   "metadata": {},
   "outputs": [],
   "source": [
    "class Dog:\n",
    "    \"\"\"creating the dog class\"\"\"  # doc string\n",
    "    \n",
    "    def __init__(self,name, age):\n",
    "        self.name = name\n",
    "        self.age = age\n",
    "        \n",
    "    def sit(self):\n",
    "        print(\"the dog is sitting\")\n",
    "        \n",
    "    def roll_over(self):\n",
    "        print(f\"the dog is rolling over\")\n",
    "    \n",
    "    def details(self):\n",
    "        print(f\"i have a dog named {self.name}\")\n",
    "        print(f\"it is of {self.age} years old\")"
   ]
  },
  {
   "cell_type": "code",
   "execution_count": null,
   "id": "a1aff0a7",
   "metadata": {},
   "outputs": [],
   "source": []
  },
  {
   "cell_type": "code",
   "execution_count": 12,
   "id": "e21553ae",
   "metadata": {},
   "outputs": [
    {
     "ename": "TypeError",
     "evalue": "__init__() missing 2 required positional arguments: 'name' and 'age'",
     "output_type": "error",
     "traceback": [
      "\u001b[0;31m---------------------------------------------------------------------------\u001b[0m",
      "\u001b[0;31mTypeError\u001b[0m                                 Traceback (most recent call last)",
      "\u001b[0;32m/var/folders/9x/yqdq3pnj47qgz4g5pr7cv3wr0000gn/T/ipykernel_42373/3226080032.py\u001b[0m in \u001b[0;36m<module>\u001b[0;34m\u001b[0m\n\u001b[0;32m----> 1\u001b[0;31m \u001b[0mmy_dog\u001b[0m \u001b[0;34m=\u001b[0m \u001b[0mDog\u001b[0m\u001b[0;34m(\u001b[0m\u001b[0;34m)\u001b[0m\u001b[0;34m\u001b[0m\u001b[0;34m\u001b[0m\u001b[0m\n\u001b[0m",
      "\u001b[0;31mTypeError\u001b[0m: __init__() missing 2 required positional arguments: 'name' and 'age'"
     ]
    }
   ],
   "source": [
    "my_dog = Dog()"
   ]
  },
  {
   "cell_type": "code",
   "execution_count": 13,
   "id": "8273a9e0",
   "metadata": {},
   "outputs": [],
   "source": [
    "my_dog = Dog('bruno', 6)"
   ]
  },
  {
   "cell_type": "code",
   "execution_count": 14,
   "id": "17cbee2e",
   "metadata": {},
   "outputs": [
    {
     "name": "stdout",
     "output_type": "stream",
     "text": [
      "the dog is sitting\n"
     ]
    }
   ],
   "source": [
    "my_dog.sit()"
   ]
  },
  {
   "cell_type": "code",
   "execution_count": 16,
   "id": "3663f7c6",
   "metadata": {},
   "outputs": [
    {
     "name": "stdout",
     "output_type": "stream",
     "text": [
      "the dog is rolling over\n"
     ]
    }
   ],
   "source": [
    "my_dog.roll_over()"
   ]
  },
  {
   "cell_type": "code",
   "execution_count": 17,
   "id": "8e0bde5a",
   "metadata": {},
   "outputs": [
    {
     "name": "stdout",
     "output_type": "stream",
     "text": [
      "i have a dog named bruno\n",
      "it is of 6 years old\n"
     ]
    }
   ],
   "source": [
    "my_dog.details()"
   ]
  },
  {
   "cell_type": "code",
   "execution_count": null,
   "id": "e4ff58b8",
   "metadata": {},
   "outputs": [],
   "source": []
  },
  {
   "cell_type": "code",
   "execution_count": 18,
   "id": "d3d92ee6",
   "metadata": {},
   "outputs": [],
   "source": [
    "your_dog = Dog('rex', 3)"
   ]
  },
  {
   "cell_type": "code",
   "execution_count": 19,
   "id": "1e3da64a",
   "metadata": {},
   "outputs": [
    {
     "name": "stdout",
     "output_type": "stream",
     "text": [
      "the dog is rolling over\n"
     ]
    }
   ],
   "source": [
    "your_dog.roll_over()"
   ]
  },
  {
   "cell_type": "code",
   "execution_count": 20,
   "id": "f2b807ec",
   "metadata": {},
   "outputs": [
    {
     "name": "stdout",
     "output_type": "stream",
     "text": [
      "the dog is sitting\n"
     ]
    }
   ],
   "source": [
    "your_dog.sit()"
   ]
  },
  {
   "cell_type": "code",
   "execution_count": 21,
   "id": "7b254542",
   "metadata": {},
   "outputs": [
    {
     "name": "stdout",
     "output_type": "stream",
     "text": [
      "i have a dog named rex\n",
      "it is of 3 years old\n"
     ]
    }
   ],
   "source": [
    "your_dog.details()"
   ]
  },
  {
   "cell_type": "code",
   "execution_count": null,
   "id": "799a6ec2",
   "metadata": {},
   "outputs": [],
   "source": []
  }
 ],
 "metadata": {
  "kernelspec": {
   "display_name": "Python 3 (ipykernel)",
   "language": "python",
   "name": "python3"
  },
  "language_info": {
   "codemirror_mode": {
    "name": "ipython",
    "version": 3
   },
   "file_extension": ".py",
   "mimetype": "text/x-python",
   "name": "python",
   "nbconvert_exporter": "python",
   "pygments_lexer": "ipython3",
   "version": "3.9.13"
  }
 },
 "nbformat": 4,
 "nbformat_minor": 5
}
