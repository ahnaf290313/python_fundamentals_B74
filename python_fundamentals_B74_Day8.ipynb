{
 "cells": [
  {
   "cell_type": "code",
   "execution_count": null,
   "id": "9298e4ab",
   "metadata": {},
   "outputs": [],
   "source": [
    "introduction to dictionary : ***"
   ]
  },
  {
   "cell_type": "code",
   "execution_count": null,
   "id": "dad9b334",
   "metadata": {},
   "outputs": [],
   "source": [
    "defination : A dict is combination of key - value pairs\n",
    "    \n",
    "classification : it is classified as a mutable datatype\n",
    "    \n",
    "how to declare the dictionary ------? {}"
   ]
  },
  {
   "cell_type": "code",
   "execution_count": null,
   "id": "75fdf7d5",
   "metadata": {},
   "outputs": [],
   "source": [
    "Note : in almost all real world applications dict datatypes are used....!"
   ]
  },
  {
   "cell_type": "code",
   "execution_count": null,
   "id": "766f8180",
   "metadata": {},
   "outputs": [],
   "source": []
  },
  {
   "cell_type": "code",
   "execution_count": null,
   "id": "d480cf0e",
   "metadata": {},
   "outputs": [],
   "source": [
    "# req : creating an alien"
   ]
  },
  {
   "cell_type": "code",
   "execution_count": 1,
   "id": "dcd93633",
   "metadata": {},
   "outputs": [],
   "source": [
    "alien = {'color':'green', 'points':5,'level':1}"
   ]
  },
  {
   "cell_type": "code",
   "execution_count": 2,
   "id": "8e928472",
   "metadata": {},
   "outputs": [
    {
     "name": "stdout",
     "output_type": "stream",
     "text": [
      "{'color': 'green', 'points': 5, 'level': 1}\n"
     ]
    }
   ],
   "source": [
    "print(alien)"
   ]
  },
  {
   "cell_type": "code",
   "execution_count": 3,
   "id": "54cecd65",
   "metadata": {},
   "outputs": [
    {
     "data": {
      "text/plain": [
       "dict"
      ]
     },
     "execution_count": 3,
     "metadata": {},
     "output_type": "execute_result"
    }
   ],
   "source": [
    "type(alien)"
   ]
  },
  {
   "cell_type": "code",
   "execution_count": null,
   "id": "89a7058c",
   "metadata": {},
   "outputs": [],
   "source": [
    "# how to get access the value from the dictionary ....."
   ]
  },
  {
   "cell_type": "code",
   "execution_count": null,
   "id": "b992b170",
   "metadata": {},
   "outputs": [],
   "source": [
    "# req : i want to know the color of the alien...?"
   ]
  },
  {
   "cell_type": "code",
   "execution_count": 4,
   "id": "13aba1ca",
   "metadata": {},
   "outputs": [
    {
     "name": "stdout",
     "output_type": "stream",
     "text": [
      "green\n"
     ]
    }
   ],
   "source": [
    "print(alien['color'])"
   ]
  },
  {
   "cell_type": "code",
   "execution_count": null,
   "id": "ec4f0d62",
   "metadata": {},
   "outputs": [],
   "source": [
    "Note : Give the key and get the value ....!"
   ]
  },
  {
   "cell_type": "code",
   "execution_count": 6,
   "id": "5f501e09",
   "metadata": {},
   "outputs": [
    {
     "name": "stdout",
     "output_type": "stream",
     "text": [
      "5\n"
     ]
    }
   ],
   "source": [
    "print(alien['points'])"
   ]
  },
  {
   "cell_type": "code",
   "execution_count": 7,
   "id": "4509cc9e",
   "metadata": {},
   "outputs": [
    {
     "ename": "KeyError",
     "evalue": "1",
     "output_type": "error",
     "traceback": [
      "\u001b[0;31m---------------------------------------------------------------------------\u001b[0m",
      "\u001b[0;31mKeyError\u001b[0m                                  Traceback (most recent call last)",
      "\u001b[0;32m/var/folders/9x/yqdq3pnj47qgz4g5pr7cv3wr0000gn/T/ipykernel_12109/2937663479.py\u001b[0m in \u001b[0;36m<module>\u001b[0;34m\u001b[0m\n\u001b[0;32m----> 1\u001b[0;31m \u001b[0mprint\u001b[0m\u001b[0;34m(\u001b[0m\u001b[0malien\u001b[0m\u001b[0;34m[\u001b[0m\u001b[0;36m1\u001b[0m\u001b[0;34m]\u001b[0m\u001b[0;34m)\u001b[0m\u001b[0;34m\u001b[0m\u001b[0;34m\u001b[0m\u001b[0m\n\u001b[0m",
      "\u001b[0;31mKeyError\u001b[0m: 1"
     ]
    }
   ],
   "source": [
    "print(alien[1])"
   ]
  },
  {
   "cell_type": "code",
   "execution_count": 8,
   "id": "26c64339",
   "metadata": {},
   "outputs": [
    {
     "name": "stdout",
     "output_type": "stream",
     "text": [
      "{'color': 'green', 'points': 5, 'level': 1}\n"
     ]
    }
   ],
   "source": [
    "print(alien)"
   ]
  },
  {
   "cell_type": "code",
   "execution_count": null,
   "id": "143cae42",
   "metadata": {},
   "outputs": [],
   "source": [
    "# req : how to add new key value pairs to the dictionary....?"
   ]
  },
  {
   "cell_type": "code",
   "execution_count": null,
   "id": "6430a2ea",
   "metadata": {},
   "outputs": [],
   "source": [
    "# req : current_status : 'beginer'"
   ]
  },
  {
   "cell_type": "code",
   "execution_count": 10,
   "id": "d99fa5df",
   "metadata": {},
   "outputs": [],
   "source": [
    "alien['current_status'] = 'beginer'"
   ]
  },
  {
   "cell_type": "code",
   "execution_count": 11,
   "id": "c569c775",
   "metadata": {},
   "outputs": [
    {
     "name": "stdout",
     "output_type": "stream",
     "text": [
      "{'color': 'green', 'points': 5, 'level': 1, 'current_status': 'beginer'}\n"
     ]
    }
   ],
   "source": [
    "print(alien)"
   ]
  },
  {
   "cell_type": "code",
   "execution_count": null,
   "id": "2a69c3b4",
   "metadata": {},
   "outputs": [],
   "source": [
    "# how to modify the value..?"
   ]
  },
  {
   "cell_type": "code",
   "execution_count": null,
   "id": "c0316920",
   "metadata": {},
   "outputs": [],
   "source": [
    "# color ----> yellow...?"
   ]
  },
  {
   "cell_type": "code",
   "execution_count": 12,
   "id": "34b7bb0d",
   "metadata": {},
   "outputs": [],
   "source": [
    "alien['color'] = 'yellow'"
   ]
  },
  {
   "cell_type": "code",
   "execution_count": 13,
   "id": "d74e2c64",
   "metadata": {},
   "outputs": [
    {
     "name": "stdout",
     "output_type": "stream",
     "text": [
      "{'color': 'yellow', 'points': 5, 'level': 1, 'current_status': 'beginer'}\n"
     ]
    }
   ],
   "source": [
    "print(alien)"
   ]
  },
  {
   "cell_type": "code",
   "execution_count": null,
   "id": "7d5cc2a4",
   "metadata": {},
   "outputs": [],
   "source": [
    "# how to delete the key value pairs from the dictionary...?"
   ]
  },
  {
   "cell_type": "code",
   "execution_count": null,
   "id": "8e06c15e",
   "metadata": {},
   "outputs": [],
   "source": [
    "# points"
   ]
  },
  {
   "cell_type": "code",
   "execution_count": 14,
   "id": "8d320a12",
   "metadata": {},
   "outputs": [],
   "source": [
    "del alien['points']"
   ]
  },
  {
   "cell_type": "code",
   "execution_count": 15,
   "id": "22e513fc",
   "metadata": {},
   "outputs": [
    {
     "name": "stdout",
     "output_type": "stream",
     "text": [
      "{'color': 'yellow', 'level': 1, 'current_status': 'beginer'}\n"
     ]
    }
   ],
   "source": [
    "print(alien)"
   ]
  },
  {
   "cell_type": "code",
   "execution_count": null,
   "id": "7b4bbe8f",
   "metadata": {},
   "outputs": [],
   "source": []
  },
  {
   "cell_type": "code",
   "execution_count": null,
   "id": "0d8210da",
   "metadata": {},
   "outputs": [],
   "source": [
    "# create your facebook account..."
   ]
  },
  {
   "cell_type": "code",
   "execution_count": 16,
   "id": "748b2501",
   "metadata": {},
   "outputs": [],
   "source": [
    "account = {'first_name':'code', 'last_name':'training', 'user_name':'ct_academy', 'dob':'01-01-20', 'pwd':'54321'}"
   ]
  },
  {
   "cell_type": "code",
   "execution_count": 17,
   "id": "b82436d1",
   "metadata": {},
   "outputs": [
    {
     "name": "stdout",
     "output_type": "stream",
     "text": [
      "{'first_name': 'code', 'last_name': 'training', 'user_name': 'ct_academy', 'dob': '01-01-20', 'pwd': '54321'}\n"
     ]
    }
   ],
   "source": [
    "print(account)"
   ]
  },
  {
   "cell_type": "code",
   "execution_count": null,
   "id": "b126ac45",
   "metadata": {},
   "outputs": [],
   "source": [
    "# location : farzi_cafe"
   ]
  },
  {
   "cell_type": "code",
   "execution_count": 18,
   "id": "427542cc",
   "metadata": {},
   "outputs": [],
   "source": [
    "account['location'] = 'farzi_cafe'"
   ]
  },
  {
   "cell_type": "code",
   "execution_count": 19,
   "id": "03c1955b",
   "metadata": {},
   "outputs": [
    {
     "name": "stdout",
     "output_type": "stream",
     "text": [
      "{'first_name': 'code', 'last_name': 'training', 'user_name': 'ct_academy', 'dob': '01-01-20', 'pwd': '54321', 'location': 'farzi_cafe'}\n"
     ]
    }
   ],
   "source": [
    "print(account)"
   ]
  },
  {
   "cell_type": "code",
   "execution_count": null,
   "id": "253b61c1",
   "metadata": {},
   "outputs": [],
   "source": []
  }
 ],
 "metadata": {
  "kernelspec": {
   "display_name": "Python 3 (ipykernel)",
   "language": "python",
   "name": "python3"
  },
  "language_info": {
   "codemirror_mode": {
    "name": "ipython",
    "version": 3
   },
   "file_extension": ".py",
   "mimetype": "text/x-python",
   "name": "python",
   "nbconvert_exporter": "python",
   "pygments_lexer": "ipython3",
   "version": "3.9.13"
  }
 },
 "nbformat": 4,
 "nbformat_minor": 5
}
