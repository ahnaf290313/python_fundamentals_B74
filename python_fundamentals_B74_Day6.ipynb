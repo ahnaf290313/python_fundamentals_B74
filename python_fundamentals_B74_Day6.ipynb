{
 "cells": [
  {
   "cell_type": "code",
   "execution_count": null,
   "id": "62f6fdc7",
   "metadata": {},
   "outputs": [],
   "source": [
    "introduction to looping statements : "
   ]
  },
  {
   "cell_type": "code",
   "execution_count": null,
   "id": "7b7048a6",
   "metadata": {},
   "outputs": [],
   "source": []
  },
  {
   "cell_type": "code",
   "execution_count": null,
   "id": "922dddfb",
   "metadata": {},
   "outputs": [],
   "source": [
    "understanding the concept of for loop : "
   ]
  },
  {
   "cell_type": "code",
   "execution_count": null,
   "id": "d2115a83",
   "metadata": {},
   "outputs": [],
   "source": [
    "# general syntax of the for loop : "
   ]
  },
  {
   "cell_type": "code",
   "execution_count": null,
   "id": "ef97ad73",
   "metadata": {},
   "outputs": [],
   "source": [
    "# formula \n",
    "\n",
    "for temp_var in main_var:\n",
    "    print(temp_var)"
   ]
  },
  {
   "cell_type": "code",
   "execution_count": 1,
   "id": "bc074b08",
   "metadata": {},
   "outputs": [],
   "source": [
    "students = ['sunil', 'naveen', 'abdul', 'snehal', 'iqra', 'sadiya']"
   ]
  },
  {
   "cell_type": "code",
   "execution_count": 2,
   "id": "2bae07fb",
   "metadata": {},
   "outputs": [
    {
     "name": "stdout",
     "output_type": "stream",
     "text": [
      "['sunil', 'naveen', 'abdul', 'snehal', 'iqra', 'sadiya']\n"
     ]
    }
   ],
   "source": [
    "print(students)"
   ]
  },
  {
   "cell_type": "code",
   "execution_count": 3,
   "id": "26c02694",
   "metadata": {},
   "outputs": [
    {
     "data": {
      "text/plain": [
       "list"
      ]
     },
     "execution_count": 3,
     "metadata": {},
     "output_type": "execute_result"
    }
   ],
   "source": [
    "type(students)"
   ]
  },
  {
   "cell_type": "code",
   "execution_count": null,
   "id": "046fceae",
   "metadata": {},
   "outputs": [],
   "source": [
    "# req : i want to appreciate the above students in the list...."
   ]
  },
  {
   "cell_type": "code",
   "execution_count": 4,
   "id": "acbf1b5b",
   "metadata": {},
   "outputs": [
    {
     "name": "stdout",
     "output_type": "stream",
     "text": [
      "keep up the good work, Sunil\n"
     ]
    }
   ],
   "source": [
    "print(f\"keep up the good work, {students[0].title()}\")"
   ]
  },
  {
   "cell_type": "code",
   "execution_count": 5,
   "id": "df04a187",
   "metadata": {},
   "outputs": [
    {
     "name": "stdout",
     "output_type": "stream",
     "text": [
      "keep up the good work, Naveen\n"
     ]
    }
   ],
   "source": [
    "print(f\"keep up the good work, {students[1].title()}\")"
   ]
  },
  {
   "cell_type": "code",
   "execution_count": 6,
   "id": "1571922c",
   "metadata": {},
   "outputs": [
    {
     "name": "stdout",
     "output_type": "stream",
     "text": [
      "keep up the goog work, sunil\n",
      "keep up the goog work, naveen\n",
      "keep up the goog work, abdul\n",
      "keep up the goog work, snehal\n",
      "keep up the goog work, iqra\n",
      "keep up the goog work, sadiya\n"
     ]
    }
   ],
   "source": [
    "for x in students:\n",
    "    print(f\"keep up the goog work, {x}\")"
   ]
  },
  {
   "cell_type": "code",
   "execution_count": null,
   "id": "c8f0b325",
   "metadata": {},
   "outputs": [],
   "source": [
    "for temp_var in main_var: \n",
    "    print(temp_var)"
   ]
  },
  {
   "cell_type": "code",
   "execution_count": 7,
   "id": "f0faf881",
   "metadata": {},
   "outputs": [
    {
     "name": "stdout",
     "output_type": "stream",
     "text": [
      "sunil\n",
      "naveen\n",
      "abdul\n",
      "snehal\n",
      "iqra\n",
      "sadiya\n"
     ]
    }
   ],
   "source": [
    "for a in students: \n",
    "    print(a)"
   ]
  },
  {
   "cell_type": "code",
   "execution_count": null,
   "id": "6df1faf5",
   "metadata": {},
   "outputs": [],
   "source": [
    "# i want to remind them that i will be looking forward for the running notes of today."
   ]
  },
  {
   "cell_type": "code",
   "execution_count": 8,
   "id": "0af12737",
   "metadata": {},
   "outputs": [
    {
     "name": "stdout",
     "output_type": "stream",
     "text": [
      "keep up the good work, sunil\n",
      "i will be looking forwards for today sumission, sunil\n",
      "keep up the good work, naveen\n",
      "i will be looking forwards for today sumission, naveen\n",
      "keep up the good work, abdul\n",
      "i will be looking forwards for today sumission, abdul\n",
      "keep up the good work, snehal\n",
      "i will be looking forwards for today sumission, snehal\n",
      "keep up the good work, iqra\n",
      "i will be looking forwards for today sumission, iqra\n",
      "keep up the good work, sadiya\n",
      "i will be looking forwards for today sumission, sadiya\n"
     ]
    }
   ],
   "source": [
    "for x in students: \n",
    "    print(f\"keep up the good work, {x}\")\n",
    "    print(f\"i will be looking forwards for today sumission, {x}\")"
   ]
  },
  {
   "cell_type": "code",
   "execution_count": null,
   "id": "18d8ad4f",
   "metadata": {},
   "outputs": [],
   "source": [
    "# enhancement of the code....!"
   ]
  },
  {
   "cell_type": "code",
   "execution_count": 9,
   "id": "4cedc86d",
   "metadata": {},
   "outputs": [
    {
     "name": "stdout",
     "output_type": "stream",
     "text": [
      "keep up the good work, sunil\n",
      "i will be looking forwards for today sumission, sunil\n",
      "\n",
      "keep up the good work, naveen\n",
      "i will be looking forwards for today sumission, naveen\n",
      "\n",
      "keep up the good work, abdul\n",
      "i will be looking forwards for today sumission, abdul\n",
      "\n",
      "keep up the good work, snehal\n",
      "i will be looking forwards for today sumission, snehal\n",
      "\n",
      "keep up the good work, iqra\n",
      "i will be looking forwards for today sumission, iqra\n",
      "\n",
      "keep up the good work, sadiya\n",
      "i will be looking forwards for today sumission, sadiya\n",
      "\n"
     ]
    }
   ],
   "source": [
    "for x in students: \n",
    "    print(f\"keep up the good work, {x}\")\n",
    "    print(f\"i will be looking forwards for today sumission, {x}\\n\")"
   ]
  },
  {
   "cell_type": "code",
   "execution_count": null,
   "id": "1bb5a1db",
   "metadata": {},
   "outputs": [],
   "source": []
  },
  {
   "cell_type": "code",
   "execution_count": null,
   "id": "d595c26a",
   "metadata": {},
   "outputs": [],
   "source": []
  }
 ],
 "metadata": {
  "kernelspec": {
   "display_name": "Python 3 (ipykernel)",
   "language": "python",
   "name": "python3"
  },
  "language_info": {
   "codemirror_mode": {
    "name": "ipython",
    "version": 3
   },
   "file_extension": ".py",
   "mimetype": "text/x-python",
   "name": "python",
   "nbconvert_exporter": "python",
   "pygments_lexer": "ipython3",
   "version": "3.9.13"
  }
 },
 "nbformat": 4,
 "nbformat_minor": 5
}
