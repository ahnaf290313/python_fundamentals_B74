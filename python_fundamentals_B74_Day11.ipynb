{
 "cells": [
  {
   "cell_type": "code",
   "execution_count": null,
   "id": "d2f22efa",
   "metadata": {},
   "outputs": [],
   "source": [
    "introduction to python function : "
   ]
  },
  {
   "cell_type": "code",
   "execution_count": null,
   "id": "9589efcb",
   "metadata": {},
   "outputs": [],
   "source": [
    "string, lists, tuples, dictionaries and numbers"
   ]
  },
  {
   "cell_type": "code",
   "execution_count": null,
   "id": "48fec8bb",
   "metadata": {},
   "outputs": [],
   "source": []
  },
  {
   "cell_type": "code",
   "execution_count": null,
   "id": "33c44c0a",
   "metadata": {},
   "outputs": [],
   "source": [
    "sets, relations and functions f(x)===="
   ]
  },
  {
   "cell_type": "code",
   "execution_count": null,
   "id": "674abe2d",
   "metadata": {},
   "outputs": [],
   "source": []
  },
  {
   "cell_type": "code",
   "execution_count": null,
   "id": "9600ab00",
   "metadata": {},
   "outputs": [],
   "source": [
    "rule for defining thefunction : \n",
    "    \n",
    "    use small case letters for defining the function name : \n",
    "    \n",
    "    we have to use def as keywords for defining the function : \n"
   ]
  },
  {
   "cell_type": "code",
   "execution_count": null,
   "id": "0915c000",
   "metadata": {},
   "outputs": [],
   "source": []
  },
  {
   "cell_type": "code",
   "execution_count": null,
   "id": "010ac466",
   "metadata": {},
   "outputs": [],
   "source": [
    "# req : create a function called describe_pet where it accepts two parameters such as animal_type and pet_name"
   ]
  },
  {
   "cell_type": "code",
   "execution_count": null,
   "id": "eb49d656",
   "metadata": {},
   "outputs": [],
   "source": []
  },
  {
   "cell_type": "code",
   "execution_count": 1,
   "id": "825b8db3",
   "metadata": {},
   "outputs": [],
   "source": [
    "def describe_pet(animal_type, pet_name): # parameters\n",
    "    print(f\"i have a {animal_type}\")\n",
    "    print(f\"its name is {pet_name}\")"
   ]
  },
  {
   "cell_type": "code",
   "execution_count": 2,
   "id": "275e6a33",
   "metadata": {},
   "outputs": [
    {
     "name": "stdout",
     "output_type": "stream",
     "text": [
      "i have a dog\n",
      "its name is bruno\n"
     ]
    }
   ],
   "source": [
    "describe_pet('dog', 'bruno') # arguments passing"
   ]
  },
  {
   "cell_type": "code",
   "execution_count": 3,
   "id": "bc1c63f5",
   "metadata": {},
   "outputs": [
    {
     "name": "stdout",
     "output_type": "stream",
     "text": [
      "i have a rabbit\n",
      "its name is res\n"
     ]
    }
   ],
   "source": [
    "describe_pet('rabbit', 'res')"
   ]
  },
  {
   "cell_type": "code",
   "execution_count": null,
   "id": "fb4789d0",
   "metadata": {},
   "outputs": [],
   "source": [
    "types of arguments: \n",
    "    \n",
    "    1. positional arguments\n",
    "    2. keyword arguments\n",
    "    3. default arguments"
   ]
  },
  {
   "cell_type": "code",
   "execution_count": 4,
   "id": "fde4ae30",
   "metadata": {},
   "outputs": [
    {
     "name": "stdout",
     "output_type": "stream",
     "text": [
      "i have a timo\n",
      "its name is bird\n"
     ]
    }
   ],
   "source": [
    "describe_pet('timo', 'bird')"
   ]
  },
  {
   "cell_type": "code",
   "execution_count": 5,
   "id": "1b137181",
   "metadata": {},
   "outputs": [
    {
     "name": "stdout",
     "output_type": "stream",
     "text": [
      "i have a bird\n",
      "its name is timo\n"
     ]
    }
   ],
   "source": [
    "describe_pet(pet_name='timo', animal_type='bird')"
   ]
  },
  {
   "cell_type": "code",
   "execution_count": 6,
   "id": "8a354632",
   "metadata": {},
   "outputs": [
    {
     "ename": "TypeError",
     "evalue": "describe_pet() missing 1 required positional argument: 'pet_name'",
     "output_type": "error",
     "traceback": [
      "\u001b[0;31m---------------------------------------------------------------------------\u001b[0m",
      "\u001b[0;31mTypeError\u001b[0m                                 Traceback (most recent call last)",
      "\u001b[0;32m/var/folders/9x/yqdq3pnj47qgz4g5pr7cv3wr0000gn/T/ipykernel_36126/712337334.py\u001b[0m in \u001b[0;36m<module>\u001b[0;34m\u001b[0m\n\u001b[0;32m----> 1\u001b[0;31m \u001b[0mdescribe_pet\u001b[0m\u001b[0;34m(\u001b[0m\u001b[0;34m'bruno'\u001b[0m\u001b[0;34m)\u001b[0m\u001b[0;34m\u001b[0m\u001b[0;34m\u001b[0m\u001b[0m\n\u001b[0m",
      "\u001b[0;31mTypeError\u001b[0m: describe_pet() missing 1 required positional argument: 'pet_name'"
     ]
    }
   ],
   "source": [
    "describe_pet('bruno')"
   ]
  },
  {
   "cell_type": "code",
   "execution_count": 9,
   "id": "33410403",
   "metadata": {},
   "outputs": [],
   "source": [
    "def describe_pet(pet_name, animal_type='dog'): # parameters\n",
    "    print(f\"i have a {animal_type}\")\n",
    "    print(f\"its name is {pet_name}\")"
   ]
  },
  {
   "cell_type": "code",
   "execution_count": 10,
   "id": "dbebcc5c",
   "metadata": {},
   "outputs": [
    {
     "name": "stdout",
     "output_type": "stream",
     "text": [
      "i have a dog\n",
      "its name is bruno\n"
     ]
    }
   ],
   "source": [
    "describe_pet('bruno')"
   ]
  },
  {
   "cell_type": "code",
   "execution_count": 11,
   "id": "ef18736d",
   "metadata": {},
   "outputs": [
    {
     "name": "stdout",
     "output_type": "stream",
     "text": [
      "i have a rabbit\n",
      "its name is rex\n"
     ]
    }
   ],
   "source": [
    "describe_pet('rex', 'rabbit')"
   ]
  },
  {
   "cell_type": "code",
   "execution_count": null,
   "id": "d99881dc",
   "metadata": {},
   "outputs": [],
   "source": []
  }
 ],
 "metadata": {
  "kernelspec": {
   "display_name": "Python 3 (ipykernel)",
   "language": "python",
   "name": "python3"
  },
  "language_info": {
   "codemirror_mode": {
    "name": "ipython",
    "version": 3
   },
   "file_extension": ".py",
   "mimetype": "text/x-python",
   "name": "python",
   "nbconvert_exporter": "python",
   "pygments_lexer": "ipython3",
   "version": "3.9.13"
  }
 },
 "nbformat": 4,
 "nbformat_minor": 5
}
