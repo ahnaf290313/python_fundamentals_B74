{
 "cells": [
  {
   "cell_type": "code",
   "execution_count": null,
   "id": "aa93150f",
   "metadata": {},
   "outputs": [],
   "source": [
    "General syntax : "
   ]
  },
  {
   "cell_type": "code",
   "execution_count": null,
   "id": "5203237a",
   "metadata": {},
   "outputs": [],
   "source": []
  },
  {
   "cell_type": "code",
   "execution_count": null,
   "id": "dbc1cd5b",
   "metadata": {},
   "outputs": [],
   "source": [
    "for temp_var in main_var: \n",
    "    \n",
    "    print(temp_var)"
   ]
  },
  {
   "cell_type": "code",
   "execution_count": null,
   "id": "07c501c6",
   "metadata": {},
   "outputs": [],
   "source": []
  },
  {
   "cell_type": "code",
   "execution_count": 1,
   "id": "f5d7f329",
   "metadata": {},
   "outputs": [],
   "source": [
    "students = ['afzal', 'suresh', 'naveen', 'rahul', 'keerthi', 'shanthi']"
   ]
  },
  {
   "cell_type": "code",
   "execution_count": null,
   "id": "9363bc9d",
   "metadata": {},
   "outputs": [],
   "source": []
  },
  {
   "cell_type": "code",
   "execution_count": 2,
   "id": "59baa475",
   "metadata": {},
   "outputs": [
    {
     "name": "stdout",
     "output_type": "stream",
     "text": [
      "keep up the good work, afzal\n",
      "keep up the good work, suresh\n",
      "keep up the good work, naveen\n",
      "keep up the good work, rahul\n",
      "keep up the good work, keerthi\n",
      "keep up the good work, shanthi\n"
     ]
    }
   ],
   "source": [
    "for x in students: \n",
    "    print(f\"keep up the good work, {x}\")"
   ]
  },
  {
   "cell_type": "code",
   "execution_count": 3,
   "id": "e7ad1cfc",
   "metadata": {},
   "outputs": [
    {
     "ename": "SyntaxError",
     "evalue": "unexpected character after line continuation character (3224242406.py, line 3)",
     "output_type": "error",
     "traceback": [
      "\u001b[0;36m  File \u001b[0;32m\"/var/folders/9x/yqdq3pnj47qgz4g5pr7cv3wr0000gn/T/ipykernel_11075/3224242406.py\"\u001b[0;36m, line \u001b[0;32m3\u001b[0m\n\u001b[0;31m    print(f\"do submit your github url for today, {x}\"\\n)\u001b[0m\n\u001b[0m                                                      ^\u001b[0m\n\u001b[0;31mSyntaxError\u001b[0m\u001b[0;31m:\u001b[0m unexpected character after line continuation character\n"
     ]
    }
   ],
   "source": [
    "for x in students: \n",
    "    print(f\"keep up the good work, {x}\")\n",
    "    print(f\"do submit your github url for today, {x}\"\\n)"
   ]
  },
  {
   "cell_type": "code",
   "execution_count": 4,
   "id": "81730702",
   "metadata": {},
   "outputs": [
    {
     "name": "stdout",
     "output_type": "stream",
     "text": [
      "keep up the good work, afzal\n",
      "do submit your github url for today, afzal\n",
      "\n",
      "keep up the good work, suresh\n",
      "do submit your github url for today, suresh\n",
      "\n",
      "keep up the good work, naveen\n",
      "do submit your github url for today, naveen\n",
      "\n",
      "keep up the good work, rahul\n",
      "do submit your github url for today, rahul\n",
      "\n",
      "keep up the good work, keerthi\n",
      "do submit your github url for today, keerthi\n",
      "\n",
      "keep up the good work, shanthi\n",
      "do submit your github url for today, shanthi\n",
      "\n"
     ]
    }
   ],
   "source": [
    "for x in students: \n",
    "    print(f\"keep up the good work, {x}\")\n",
    "    print(f\"do submit your github url for today, {x}\\n\")"
   ]
  },
  {
   "cell_type": "code",
   "execution_count": 5,
   "id": "4c3870d2",
   "metadata": {},
   "outputs": [
    {
     "name": "stdout",
     "output_type": "stream",
     "text": [
      "keep up the good work, afzal\n",
      "do submit your github url for today, afzal\n",
      "keep up the good work, suresh\n",
      "do submit your github url for today, suresh\n",
      "keep up the good work, naveen\n",
      "do submit your github url for today, naveen\n",
      "keep up the good work, rahul\n",
      "do submit your github url for today, rahul\n",
      "keep up the good work, keerthi\n",
      "do submit your github url for today, keerthi\n",
      "keep up the good work, shanthi\n",
      "do submit your github url for today, shanthi\n"
     ]
    }
   ],
   "source": [
    "for x in students: \n",
    "    print(f\"keep up the good work, {x}\")\n",
    "    print(f\"do submit your github url for today, {x}\")"
   ]
  },
  {
   "cell_type": "code",
   "execution_count": null,
   "id": "3d4d5664",
   "metadata": {},
   "outputs": [],
   "source": [
    "for x in students: \n",
    "    print(f\"keep up the good work, {x}\") # indentation"
   ]
  },
  {
   "cell_type": "code",
   "execution_count": 6,
   "id": "e5063153",
   "metadata": {},
   "outputs": [
    {
     "ename": "IndentationError",
     "evalue": "expected an indented block (1380997646.py, line 2)",
     "output_type": "error",
     "traceback": [
      "\u001b[0;36m  File \u001b[0;32m\"/var/folders/9x/yqdq3pnj47qgz4g5pr7cv3wr0000gn/T/ipykernel_11075/1380997646.py\"\u001b[0;36m, line \u001b[0;32m2\u001b[0m\n\u001b[0;31m    print(f\"keep up the good work, {x}\")\u001b[0m\n\u001b[0m    ^\u001b[0m\n\u001b[0;31mIndentationError\u001b[0m\u001b[0;31m:\u001b[0m expected an indented block\n"
     ]
    }
   ],
   "source": [
    "for x in students: \n",
    "print(f\"keep up the good work, {x}\") "
   ]
  },
  {
   "cell_type": "code",
   "execution_count": 7,
   "id": "e0830e15",
   "metadata": {},
   "outputs": [
    {
     "name": "stdout",
     "output_type": "stream",
     "text": [
      "keep up the good work, afzal\n",
      "do submit your github url for today, afzal\n",
      "\n",
      "keep up the good work, suresh\n",
      "do submit your github url for today, suresh\n",
      "\n",
      "keep up the good work, naveen\n",
      "do submit your github url for today, naveen\n",
      "\n",
      "keep up the good work, rahul\n",
      "do submit your github url for today, rahul\n",
      "\n",
      "keep up the good work, keerthi\n",
      "do submit your github url for today, keerthi\n",
      "\n",
      "keep up the good work, shanthi\n",
      "do submit your github url for today, shanthi\n",
      "\n",
      "thank you all for joining the session\n"
     ]
    }
   ],
   "source": [
    "for x in students: \n",
    "    print(f\"keep up the good work, {x}\")\n",
    "    print(f\"do submit your github url for today, {x}\\n\")\n",
    "    \n",
    "print(\"thank you all for joining the session\")"
   ]
  },
  {
   "cell_type": "code",
   "execution_count": null,
   "id": "435a6af6",
   "metadata": {},
   "outputs": [],
   "source": [
    "introduction to tuple datatype : "
   ]
  },
  {
   "cell_type": "code",
   "execution_count": null,
   "id": "bd73083c",
   "metadata": {},
   "outputs": [],
   "source": [
    "defination : An immutable list is called as a tuple datatype.\n",
    "    \n",
    "classification : it is classified as an immutable datatype\n",
    "    \n",
    "how to declare the tuple datatype ----------> ( )"
   ]
  },
  {
   "cell_type": "code",
   "execution_count": null,
   "id": "79e8f2dc",
   "metadata": {},
   "outputs": [],
   "source": []
  },
  {
   "cell_type": "code",
   "execution_count": 8,
   "id": "b2ebe956",
   "metadata": {},
   "outputs": [],
   "source": [
    "students = ('anand', 'arshad', 'naveen', 'padma', 'bhanu')"
   ]
  },
  {
   "cell_type": "code",
   "execution_count": 9,
   "id": "9415d9ee",
   "metadata": {},
   "outputs": [
    {
     "data": {
      "text/plain": [
       "tuple"
      ]
     },
     "execution_count": 9,
     "metadata": {},
     "output_type": "execute_result"
    }
   ],
   "source": [
    "type(students)"
   ]
  },
  {
   "cell_type": "code",
   "execution_count": null,
   "id": "e4a0c8a9",
   "metadata": {},
   "outputs": [],
   "source": [
    " # req : i want to change anand name to arun....?"
   ]
  },
  {
   "cell_type": "code",
   "execution_count": 10,
   "id": "cb0e0178",
   "metadata": {},
   "outputs": [
    {
     "ename": "TypeError",
     "evalue": "'tuple' object does not support item assignment",
     "output_type": "error",
     "traceback": [
      "\u001b[0;31m---------------------------------------------------------------------------\u001b[0m",
      "\u001b[0;31mTypeError\u001b[0m                                 Traceback (most recent call last)",
      "\u001b[0;32m/var/folders/9x/yqdq3pnj47qgz4g5pr7cv3wr0000gn/T/ipykernel_11075/1317510341.py\u001b[0m in \u001b[0;36m<module>\u001b[0;34m\u001b[0m\n\u001b[0;32m----> 1\u001b[0;31m \u001b[0mstudents\u001b[0m\u001b[0;34m[\u001b[0m\u001b[0;36m0\u001b[0m\u001b[0;34m]\u001b[0m \u001b[0;34m=\u001b[0m \u001b[0;34m'arun'\u001b[0m\u001b[0;34m\u001b[0m\u001b[0;34m\u001b[0m\u001b[0m\n\u001b[0m",
      "\u001b[0;31mTypeError\u001b[0m: 'tuple' object does not support item assignment"
     ]
    }
   ],
   "source": [
    "students[0] = 'arun'"
   ]
  },
  {
   "cell_type": "code",
   "execution_count": 11,
   "id": "8ab6bde6",
   "metadata": {},
   "outputs": [],
   "source": [
    "dimensions = ( 200, 50)"
   ]
  },
  {
   "cell_type": "code",
   "execution_count": 12,
   "id": "ecf3998e",
   "metadata": {},
   "outputs": [
    {
     "name": "stdout",
     "output_type": "stream",
     "text": [
      "(200, 50)\n"
     ]
    }
   ],
   "source": [
    "print(dimensions)"
   ]
  },
  {
   "cell_type": "code",
   "execution_count": null,
   "id": "5c7e6373",
   "metadata": {},
   "outputs": [],
   "source": []
  },
  {
   "cell_type": "code",
   "execution_count": 13,
   "id": "86911987",
   "metadata": {},
   "outputs": [],
   "source": [
    "dimensions = ( 250, 50)"
   ]
  },
  {
   "cell_type": "code",
   "execution_count": 14,
   "id": "ea2adc53",
   "metadata": {},
   "outputs": [
    {
     "name": "stdout",
     "output_type": "stream",
     "text": [
      "(250, 50)\n"
     ]
    }
   ],
   "source": [
    "print(dimensions)"
   ]
  },
  {
   "cell_type": "code",
   "execution_count": 15,
   "id": "f4e75e67",
   "metadata": {},
   "outputs": [
    {
     "name": "stdout",
     "output_type": "stream",
     "text": [
      "('anand', 'arshad', 'naveen', 'padma', 'bhanu')\n"
     ]
    }
   ],
   "source": [
    "print(students)"
   ]
  },
  {
   "cell_type": "code",
   "execution_count": 17,
   "id": "4814ec44",
   "metadata": {},
   "outputs": [
    {
     "name": "stdout",
     "output_type": "stream",
     "text": [
      "Arshad\n"
     ]
    }
   ],
   "source": [
    "print(students[1].title())"
   ]
  },
  {
   "cell_type": "code",
   "execution_count": 18,
   "id": "f745cff0",
   "metadata": {},
   "outputs": [
    {
     "name": "stdout",
     "output_type": "stream",
     "text": [
      "anand\n",
      "arshad\n",
      "naveen\n",
      "padma\n",
      "bhanu\n"
     ]
    }
   ],
   "source": [
    "for x in students: \n",
    "    print(x)"
   ]
  },
  {
   "cell_type": "code",
   "execution_count": null,
   "id": "5181e56b",
   "metadata": {},
   "outputs": [],
   "source": []
  },
  {
   "cell_type": "code",
   "execution_count": null,
   "id": "6eb77ae8",
   "metadata": {},
   "outputs": [],
   "source": [
    "introduction to Dictionaries : ***"
   ]
  },
  {
   "cell_type": "code",
   "execution_count": null,
   "id": "14b5df9a",
   "metadata": {},
   "outputs": [],
   "source": [
    "defination : A dictionaries are a combination of key - value pairs\n",
    "    \n",
    "classification : it is classified as a mutable datatype\n",
    "    \n",
    "how to declare a dictionary : {}"
   ]
  },
  {
   "cell_type": "code",
   "execution_count": null,
   "id": "da257d54",
   "metadata": {},
   "outputs": [],
   "source": []
  },
  {
   "cell_type": "code",
   "execution_count": null,
   "id": "df7724ee",
   "metadata": {},
   "outputs": [],
   "source": []
  }
 ],
 "metadata": {
  "kernelspec": {
   "display_name": "Python 3 (ipykernel)",
   "language": "python",
   "name": "python3"
  },
  "language_info": {
   "codemirror_mode": {
    "name": "ipython",
    "version": 3
   },
   "file_extension": ".py",
   "mimetype": "text/x-python",
   "name": "python",
   "nbconvert_exporter": "python",
   "pygments_lexer": "ipython3",
   "version": "3.9.13"
  }
 },
 "nbformat": 4,
 "nbformat_minor": 5
}
