{
 "cells": [
  {
   "cell_type": "code",
   "execution_count": null,
   "id": "ea8124d2",
   "metadata": {},
   "outputs": [],
   "source": [
    "continuation with the dictionary datatype :"
   ]
  },
  {
   "cell_type": "code",
   "execution_count": null,
   "id": "5a1b5dbd",
   "metadata": {},
   "outputs": [],
   "source": []
  },
  {
   "cell_type": "code",
   "execution_count": null,
   "id": "48d08d4b",
   "metadata": {},
   "outputs": [],
   "source": [
    "implementation of for loop in the dictionary :"
   ]
  },
  {
   "cell_type": "code",
   "execution_count": null,
   "id": "c16aae71",
   "metadata": {},
   "outputs": [],
   "source": []
  },
  {
   "cell_type": "code",
   "execution_count": 1,
   "id": "11897998",
   "metadata": {},
   "outputs": [],
   "source": [
    "aliens = {'color':'green', 'points':5, 'level':1}"
   ]
  },
  {
   "cell_type": "code",
   "execution_count": 3,
   "id": "8d1dcedc",
   "metadata": {},
   "outputs": [
    {
     "name": "stdout",
     "output_type": "stream",
     "text": [
      "{'color': 'green', 'points': 5, 'level': 1}\n"
     ]
    }
   ],
   "source": [
    "print(aliens)"
   ]
  },
  {
   "cell_type": "code",
   "execution_count": 4,
   "id": "1d538f89",
   "metadata": {},
   "outputs": [
    {
     "data": {
      "text/plain": [
       "dict"
      ]
     },
     "execution_count": 4,
     "metadata": {},
     "output_type": "execute_result"
    }
   ],
   "source": [
    "type(aliens)"
   ]
  },
  {
   "cell_type": "code",
   "execution_count": null,
   "id": "b67403c7",
   "metadata": {},
   "outputs": [],
   "source": [
    "# general syntax of for loop on the dict:"
   ]
  },
  {
   "cell_type": "code",
   "execution_count": null,
   "id": "86ac8eb9",
   "metadata": {},
   "outputs": [],
   "source": [
    "for temp_var1, temp_var2 in mainvar.items():\n",
    "    print(temp_var1)\n",
    "    print(temp_var2)\n"
   ]
  },
  {
   "cell_type": "code",
   "execution_count": null,
   "id": "6dd87195",
   "metadata": {},
   "outputs": [],
   "source": []
  },
  {
   "cell_type": "code",
   "execution_count": 5,
   "id": "f3a01fc4",
   "metadata": {},
   "outputs": [
    {
     "name": "stdout",
     "output_type": "stream",
     "text": [
      "color\n",
      "green\n",
      "points\n",
      "5\n",
      "level\n",
      "1\n"
     ]
    }
   ],
   "source": [
    "for x,y in aliens.items():\n",
    "    print(x)\n",
    "    print(y)"
   ]
  },
  {
   "cell_type": "code",
   "execution_count": 6,
   "id": "c1a8c490",
   "metadata": {},
   "outputs": [
    {
     "name": "stdout",
     "output_type": "stream",
     "text": [
      "key:color\n",
      "value:green\n",
      "key:points\n",
      "value:5\n",
      "key:level\n",
      "value:1\n"
     ]
    }
   ],
   "source": [
    "for x,y in aliens.items():\n",
    "    print(f\"key:{x}\")\n",
    "    print(f\"value:{y}\")"
   ]
  },
  {
   "cell_type": "code",
   "execution_count": 7,
   "id": "fa76836c",
   "metadata": {},
   "outputs": [
    {
     "name": "stdout",
     "output_type": "stream",
     "text": [
      "key:color\n",
      "value:green\n",
      "\n",
      "key:points\n",
      "value:5\n",
      "\n",
      "key:level\n",
      "value:1\n",
      "\n"
     ]
    }
   ],
   "source": [
    "for x,y in aliens.items():\n",
    "    print(f\"key:{x}\")\n",
    "    print(f\"value:{y}\\n\")"
   ]
  },
  {
   "cell_type": "code",
   "execution_count": null,
   "id": "18515c20",
   "metadata": {},
   "outputs": [],
   "source": [
    "introduction to conditional statements :"
   ]
  },
  {
   "cell_type": "code",
   "execution_count": null,
   "id": "fd6ac496",
   "metadata": {},
   "outputs": [],
   "source": [
    "# if else ------> conditions"
   ]
  },
  {
   "cell_type": "code",
   "execution_count": null,
   "id": "ff59e291",
   "metadata": {},
   "outputs": [],
   "source": []
  }
 ],
 "metadata": {
  "kernelspec": {
   "display_name": "Python 3 (ipykernel)",
   "language": "python",
   "name": "python3"
  },
  "language_info": {
   "codemirror_mode": {
    "name": "ipython",
    "version": 3
   },
   "file_extension": ".py",
   "mimetype": "text/x-python",
   "name": "python",
   "nbconvert_exporter": "python",
   "pygments_lexer": "ipython3",
   "version": "3.9.13"
  }
 },
 "nbformat": 4,
 "nbformat_minor": 5
}
